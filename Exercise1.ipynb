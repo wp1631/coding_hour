{
  "nbformat": 4,
  "nbformat_minor": 0,
  "metadata": {
    "colab": {
      "name": "Exercise1.ipynb",
      "provenance": [],
      "collapsed_sections": []
    },
    "kernelspec": {
      "name": "python3",
      "display_name": "Python 3"
    }
  },
  "cells": [
    {
      "cell_type": "code",
      "metadata": {
        "id": "0-XGUqOwBztk"
      },
      "source": [
        "import math"
      ],
      "execution_count": null,
      "outputs": []
    },
    {
      "cell_type": "markdown",
      "metadata": {
        "id": "fxE6pDrhZ5oj"
      },
      "source": [
        "# Problem 1: Counting in the list\n",
        "\n",
        "---\n"
      ]
    },
    {
      "cell_type": "markdown",
      "metadata": {
        "id": "AyYZJpdaY2-t"
      },
      "source": [
        "**Instruction**\n",
        "\n",
        "\n",
        "1.   Upload Data1.txt onto Colab server\n",
        "2.   Use loop to find the following quantities in <b><a>one run</a></b>\n",
        "\n",
        "   *   Number of interger data\n",
        "   *   Number of floating point data\n",
        "   *   Number of zero data\n",
        "   *   Number of positive data\n",
        "   *   Number of negative data\n",
        "\n",
        "\n",
        "\n"
      ]
    },
    {
      "cell_type": "code",
      "metadata": {
        "id": "0t8ZcUngWQNj"
      },
      "source": [
        "### Do not edit ### \n",
        "f=open('/content/Data1.txt')\n",
        "x= f.read().split(' ')\n",
        "for i in range(len(x)):\n",
        "    x[i]=float(x[i])\n",
        "    if x[i]==int(x[i]):\n",
        "        x[i]=int(x[i])\n",
        "f.close()\n",
        "### Do not edit ### "
      ],
      "execution_count": null,
      "outputs": []
    },
    {
      "cell_type": "code",
      "metadata": {
        "id": "JK_lkkdAaOEL"
      },
      "source": [
        "#Your code goes here\n"
      ],
      "execution_count": null,
      "outputs": []
    },
    {
      "cell_type": "markdown",
      "metadata": {
        "id": "RNfZJvmFbeFz"
      },
      "source": [
        "Now, see the result yourself by printing out x"
      ]
    },
    {
      "cell_type": "code",
      "metadata": {
        "id": "16ha5WGsbdbF"
      },
      "source": [
        "# Do not forget the code for printing"
      ],
      "execution_count": null,
      "outputs": []
    },
    {
      "cell_type": "markdown",
      "metadata": {
        "id": "D9VfMl11tUUy"
      },
      "source": [
        "# Problem 2: Fibonacci Number\n",
        "\n",
        "---\n",
        "Print out the first 20 Fibonacci number using for or while loop\n"
      ]
    },
    {
      "cell_type": "code",
      "metadata": {
        "id": "7dtcR9qRtkOH"
      },
      "source": [
        "### No more explanation"
      ],
      "execution_count": null,
      "outputs": []
    },
    {
      "cell_type": "markdown",
      "metadata": {
        "id": "bRYb9eKS_Q4j"
      },
      "source": [
        "# Problem 3: 50 prime number\n",
        "\n",
        "\n",
        "---\n"
      ]
    },
    {
      "cell_type": "markdown",
      "metadata": {
        "id": "z_F2bapQAWf2"
      },
      "source": [
        "## Sub 1: Input a number x use loop to find out if x is <b>prime</b> \n",
        "\n",
        "Use the following print command for displaying the result\n",
        "*   print('This number is prime') if x is prime\n",
        "*   print('This is not what I want') if x is not prime\n",
        "\n",
        "Note: You can access to the square root function by using math.sqrt(number) after running the<br> <a>import</a> <b>math</b><br> in the first cell\n"
      ]
    },
    {
      "cell_type": "code",
      "metadata": {
        "id": "boqCm-aRAPOo"
      },
      "source": [
        "### You can use this cell to assign a value of x\n",
        "x=int(input())"
      ],
      "execution_count": null,
      "outputs": []
    },
    {
      "cell_type": "code",
      "metadata": {
        "id": "0tA5AkcY_xw0"
      },
      "source": [
        "### Your code goes here ####\n",
        "# The providing code is just a hint for the problem, you can edit it as desire\n",
        "\n",
        "for i in range(_____):\n",
        "\n",
        "if __________:\n",
        "    print()\n",
        "\n",
        "else:\n",
        "    print()\n"
      ],
      "execution_count": null,
      "outputs": []
    },
    {
      "cell_type": "markdown",
      "metadata": {
        "id": "OeDS2ohxCdyA"
      },
      "source": [
        "## Sub 2: Print first 20 prime\n",
        "Use loop of the loop to print first 20 prime numbers"
      ]
    },
    {
      "cell_type": "code",
      "metadata": {
        "id": "dhCSuESjC0qp"
      },
      "source": [
        "### Your code goes here ####\n",
        "# The providing code is just a hint for the problem, you can edit it as desire\n",
        "\n",
        "for i in range(_____):\n",
        "    for j in range(_________):\n",
        "\n",
        "\n",
        "\n",
        "    if __________:\n",
        "        print(_______)"
      ],
      "execution_count": null,
      "outputs": []
    },
    {
      "cell_type": "markdown",
      "metadata": {
        "id": "f7QofNzIDEMR"
      },
      "source": [
        "## Sub 3: List of the first 50 prime\n",
        "Use the append method to construct the list <a> prime </a> that contains first 50 prime numbers in it.<br>\n"
      ]
    },
    {
      "cell_type": "code",
      "metadata": {
        "id": "_Vv4kpp0DoUj"
      },
      "source": [
        "### Do it from scratch ###"
      ],
      "execution_count": null,
      "outputs": []
    },
    {
      "cell_type": "markdown",
      "metadata": {
        "id": "80ouEOi1DtAC"
      },
      "source": [
        "## Sub 4: Divisible<br>\n",
        "Given an integer input N, write a program to show that N is not divisible by first 50 prime numbers"
      ]
    },
    {
      "cell_type": "code",
      "metadata": {
        "id": "AOwPwiQUEIIe"
      },
      "source": [
        "### Do it from scratch ###"
      ],
      "execution_count": null,
      "outputs": []
    },
    {
      "cell_type": "markdown",
      "metadata": {
        "id": "3Wg24ajSFK4_"
      },
      "source": [
        "# Problem 4: Brute force Rounding\n",
        "Write the code for rounding a positive decimal number input to the nearest positive integer in 1-100.\n",
        "<br> print out the result of rounding"
      ]
    },
    {
      "cell_type": "code",
      "metadata": {
        "id": "A9ctxmobF2tZ"
      },
      "source": [
        "### Input code is here ###\n",
        "Number=float(input())"
      ],
      "execution_count": null,
      "outputs": []
    },
    {
      "cell_type": "code",
      "metadata": {
        "id": "d3Jqu8qjGJ_u"
      },
      "source": [
        "### Your code now ###\n",
        "_________\n",
        "for i in range(_____):\n",
        "    __________\n",
        "________"
      ],
      "execution_count": null,
      "outputs": []
    },
    {
      "cell_type": "markdown",
      "metadata": {
        "id": "4DDrKl8Faebb"
      },
      "source": [
        "# Problem 5: Grading the student\n",
        "\n",
        "---\n",
        "\n"
      ]
    },
    {
      "cell_type": "markdown",
      "metadata": {
        "id": "xi42gx_Xe6lW"
      },
      "source": [
        "**Instruction**\n",
        "\n",
        "\n",
        "1.   Upload Data1.txt onto Colab server\n",
        "2.   Use loop to construct the list '<a>grade</a>' that contains grades of all students in <b><a>one cell</a></b>\n",
        "    *   4:Score>80 \n",
        "    *   3.5: 75<=Score<80\n",
        "    *   3: 70<=Score<75\n",
        "    *   2.5: 65<=Score<70\n",
        "    *   2: 60<=Score<65\n",
        "    *   1.5: 55<=Score<60\n",
        "    *   1: 50<=Score<55\n",
        "    *   0: Score<50\n",
        "3.   Count the number of student in each grade from your list '<a>grade</a>' "
      ]
    },
    {
      "cell_type": "code",
      "metadata": {
        "id": "eLADeckqd2mx"
      },
      "source": [
        "### Do not edit ### \n",
        "f=open('/content/Data2.txt')\n",
        "x= f.read().split('\\n')\n",
        "f.close()\n",
        "for i in range(len(x)):\n",
        "    x[i]=x[i].split()\n",
        "    x[i][1]=float(x[i][1])\n",
        "print(x)\n",
        "### Do not edit ###"
      ],
      "execution_count": null,
      "outputs": []
    },
    {
      "cell_type": "code",
      "metadata": {
        "id": "B4Tc-3URgdEW"
      },
      "source": [
        "### Your code goes here"
      ],
      "execution_count": null,
      "outputs": []
    },
    {
      "cell_type": "markdown",
      "metadata": {
        "id": "YO5M17EViXJn"
      },
      "source": [
        "Next, to complete the summary report of student grade, students' average score and stdev should be announced.<br>\n",
        "\n",
        "Use <a>for</a> loop to find these two value and print out"
      ]
    },
    {
      "cell_type": "code",
      "metadata": {
        "id": "n0IC2LEvhHpd"
      },
      "source": [
        ""
      ],
      "execution_count": null,
      "outputs": []
    },
    {
      "cell_type": "markdown",
      "metadata": {
        "id": "FJrO6lFfmpzO"
      },
      "source": [
        "# Problem 6: Money Saving \n",
        "\n",
        "\n",
        "---\n",
        "\n",
        "In this problem, we will see why savings should be done early"
      ]
    },
    {
      "cell_type": "code",
      "metadata": {
        "id": "Ne5ft_vKms0G"
      },
      "source": [
        "r =int(input('Rate of Interest for one year : '))\n",
        "year= int(input('How many year fo you want to save : '))\n",
        "start_money=float(input('How much you put in the bank for start : '))\n",
        "D=float(input('How will you deposit each month'))"
      ],
      "execution_count": null,
      "outputs": []
    },
    {
      "cell_type": "markdown",
      "metadata": {
        "id": "M15sEBWKp488"
      },
      "source": [
        "Now, use loop to find the total amount of money after long-time saving\n"
      ]
    },
    {
      "cell_type": "code",
      "metadata": {
        "id": "SJ_ulSIUqOu2"
      },
      "source": [
        "### Your code"
      ],
      "execution_count": null,
      "outputs": []
    },
    {
      "cell_type": "markdown",
      "metadata": {
        "id": "e_MbtPTLrD3C"
      },
      "source": [
        "However, we should see the growing numbers of our account<br>\n",
        "\n",
        "<b>Instruction</b>\n",
        "\n",
        "\n",
        "*   Construct the list that contains the starting money and then the resulting amount of money at the end of each year after begin saving up to 40 years after begin, and assign it to variable X\n",
        "\n"
      ]
    },
    {
      "cell_type": "code",
      "metadata": {
        "id": "cZvC-9jUqWd-"
      },
      "source": [
        "###Your code are here\n",
        "\n",
        "X="
      ],
      "execution_count": null,
      "outputs": []
    },
    {
      "cell_type": "markdown",
      "metadata": {
        "id": "_GI3GAq0syFa"
      },
      "source": [
        "Run the code below"
      ]
    },
    {
      "cell_type": "code",
      "metadata": {
        "id": "thNAgeJHrxHn"
      },
      "source": [
        "import matplotlib.pyplot as plt\n",
        "plt.plot(range(41),X)\n",
        "plt.show()"
      ],
      "execution_count": null,
      "outputs": []
    },
    {
      "cell_type": "markdown",
      "metadata": {
        "id": "PoGMeeRQs_Pk"
      },
      "source": [
        "Can it convince you that<br>\n",
        "<b>Longer saving is better</b>"
      ]
    }
  ]
}