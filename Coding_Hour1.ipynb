{
  "nbformat": 4,
  "nbformat_minor": 0,
  "metadata": {
    "colab": {
      "name": "Coding_Hour1.ipynb",
      "provenance": [],
      "private_outputs": true,
      "collapsed_sections": [],
      "toc_visible": true
    },
    "kernelspec": {
      "name": "python3",
      "display_name": "Python 3"
    },
    "accelerator": "TPU"
  },
  "cells": [
    {
      "cell_type": "markdown",
      "metadata": {
        "id": "XJxxg790-5-J"
      },
      "source": [
        "# Built-in Number types in python\n",
        "\n",
        "---\n",
        "\n",
        "\n",
        "\n",
        "\n",
        "*   Integer                  \n",
        "*   Decimal / Floating \n",
        "*   Complex                 \n",
        "\n"
      ]
    },
    {
      "cell_type": "code",
      "metadata": {
        "id": "0sSdfxkzAj4t"
      },
      "source": [
        "type(1)"
      ],
      "execution_count": null,
      "outputs": []
    },
    {
      "cell_type": "code",
      "metadata": {
        "id": "dVxYnCzsCm9s"
      },
      "source": [
        "type(1.0)"
      ],
      "execution_count": null,
      "outputs": []
    },
    {
      "cell_type": "code",
      "metadata": {
        "id": "v7al2muZAtaj"
      },
      "source": [
        "print(1/2)"
      ],
      "execution_count": null,
      "outputs": []
    },
    {
      "cell_type": "code",
      "metadata": {
        "id": "ufRxBIWEAhAa"
      },
      "source": [
        "type(1/2)"
      ],
      "execution_count": null,
      "outputs": []
    },
    {
      "cell_type": "code",
      "metadata": {
        "id": "iDtWeQxLRDqc"
      },
      "source": [
        "0b1011011"
      ],
      "execution_count": null,
      "outputs": []
    },
    {
      "cell_type": "code",
      "metadata": {
        "id": "5dSxoQ58Q_E6"
      },
      "source": [
        "type(0b1011011)"
      ],
      "execution_count": null,
      "outputs": []
    },
    {
      "cell_type": "markdown",
      "metadata": {
        "id": "2tpsI176ROw8"
      },
      "source": [
        "The prefix 0b comes from the binary number system, and 1011011 is just number 91's representation in this sytem\n",
        "![Num_Bases_prefix.PNG](data:image/png;base64,iVBORw0KGgoAAAANSUhEUgAAAxgAAADECAYAAAAcaYetAAAAAXNSR0IArs4c6QAAAARnQU1BAACxjwv8YQUAAAAJcEhZcwAADsMAAA7DAcdvqGQAAB58SURBVHhe7d3vT1tXnsfx/WfaR3lQ7ZNRVxqp8yjPIo3UkfZBNSM1CJUHViftKolGoSIjkqkaDVRWUIK0dBCksRp2ydJJWAlkUSKCQIHBcn5YKA71QBwWJwQjg+JNdvXdc+4P+/r6Yq7NAQP7fvCaie8P+5pK53s+95xz/Q///fZ/5HkuL+nl/5LFxafyt7/9Tebm5gAAAAAgkM4MOjvoDKGzhM4Urn94tbElmdUNKb4VAAAAAKiLzhI6U5QCRnrlpWy/+d/AgwEAAACgFp0ldKYoBYxHz1YDDwQAAACAMHSmKAWMh+kXgQcBAAAAQBg6UxAwAAAAABhBwAAAAABgDAEDAAAAgDEEDAAAAADGEDAAAAAAGEPAAAAAAGAMAQMAAACAMQQMAAAAAMYQMAAAAAAYQ8AAAAAAYAwBAwAAAIAxBAwAAAAAxhAwAAAAABjThICRlyeTCVl4EbRPeyvPHiRk8nE+YN8+WBmXT9//o9xcCdi3n95sy5OZn6S/a0B6f0jIk7WAYwAAx4hd/yY9FtJvA47bgzc5ufOHL+XE+7+V95za9mzwvLz3QbvcTAccDwD7oAkB47F06obv5IDM5oP25+TmabX/T48D9u2DZgSM/GO5cuq0avxPy4envpQPP9CFICLn/jMXfHyj8tvyMvBvDAA4eE798zlxKip3fg46vn4v//pn9Z5/lN6FnLxcy8vLgtoW75NPfhfboeYCgHnNCxi6Uf39tLys2n/8A8ZCz2fy3gfqM927SW+2ZfJPEbXtmkyqYuA/vlGzfzrAvyMAYBd2/fv0h/LNpM0XjyX6z6flvZMxWXjjP75+z3/4o7x3elyeB+wDgIPStIDxSfs1+fj90xUNrc1MwNhc25ZNX2MdtK0qYIS56//mrbwMeq+QrI6/vwCsJazpUnfqHcKucS27Bgz9Xdd3H54P/bcEANRQHTAsiyNyStXDKw8822qp0XYTMAAcBk0LGLqBfaYawhPvR6RzZtuzvzpgBDeY9vt0zjivnaDQOzYqbb9Q56t9733wpVzR7/3zuHz+Sz0lSW/7TD7/d0/j7gaMqWn56jfOMco//uaaDPs7+2+yMtx+Xv7ROUZPcfq4/Sd55ulo2536aVnobbeOqw5QznxY9Zn9O4WJhZh89P75gP15ufN7dY2Rn+Tl2+3SZ7jf9dxf7c+y/l6la3QNyKzzPi8f/Jt86v49lBO/VH+3B57/Bo3+LQEANewQMKw2161ndg389GaitJbCrXM1227nPdx9Nufm2cyA+rdTA95kpPc36tz2B7Lpfr6qJ7N6FP1XfTK57m4DgMY1NWCUGrUP/ijDpSlKewkYp+XEL1TH3Zp7mnOmHX0pp05G5KuxrHWn/8lNHWo8nffSee1yZdI+5uXKU7l5zn9dduf+xKk+GXcW5W2mVSg5WdlQWwHjV5/Jqd/FZHwxK89eBNxlyj+1h8TV537Y2ic3Z3K+0YCs9KsC8FH0qWebkh6Vj9//TKIL6t/WHS+n06/2vZwakJPu9yqo76C+x/hFdS0Xp+3vtOZcRzKmjjstbYNP5bmejlXIy8JfnL/Jonqtj2n0bwkAqCE4YNg329yRdLsGfvSriJz6w6jMprPyXD8EZLe22xnNXvhLu7z3yYgsWO2+M9LsDRjaz6qN/6A8g2BT7T9ZdbMPABrX5IChXr+xG9MTrePOSMBeAsZvpe0/PE+femFvq+iov0lY533+V+9dn9Pqte+pVW/sTv4J9zpU4x44quAbbbADhmrId1tLoZ8iNfZv8rk7aqICjncUYXPymiocX8uw5+lSC9HP5L3fjMoz/doJGL3J8n7/tKXqKVLbKiSp73TRe+dKy8twxLO90b8lAKAGu2591NonV7oGLJ1f6lHx03Iq+thpl50aWFHzQrbdSmC99AcMZXOqT9UuFSp+GKkIGwBgQvMDhmbdTfmtnFSd4c09BYx2uVnxJA7fMRb7/Uufb533Z7kTMCz87GZ76XPtaUen5eSvv5RTFSLWNKWv4vYIgdWp70xUvVctmz8/lt6IDhqetSBvnkr05G/l479k7ddrP0mb+vyvJt0REWf0R2378NTX8tXgT7JQGm2xVQcM++9x4pf+76DoYfdfj8gTfVyjf0sAQA0BbfDv/iy9k9421G5XP7np3Ray7VbCBoxyDVHvW7rBBwBmHI6AodhDtPouSiJcwFifls+9HV6rU+zpoFtCdIrDBox/V9fwT1Hp9z3DvPQsc+d3Pao79SEVHshXKmR5/y4v/+NrcZ8sZa3bCHjKyMvFxzI8eE3aTqoi80HliEZQwLiiPuOTrunA7zA5k/WMYDTwtwQA1BBc/yoFtash226FgAHgMDg0AUOz56F+Jh/9qrJjbD3X+wPVOHoaQHsKkamAEXaKlHp//7PK81mZVQ38Eyeg7B4w1Pv+OmB9hR6xUN+74q5VQV2/2tZ28yf7/z1TlvSox+SDXHm43L3ervJnV1+LPcz+UWeifJ7jeVIVqQXn/QgYALAPGg0YIdtu/TpkwLDqrX5cujq/86Q7g8BzDgDswaEKGLphHW511iR4O8bW4ubT8ulfnsrztW15vjAu506dNhowdl/kvS3j7eraTkblpm7MC2/lZTohV/5ZndtabszDjGDo0ZAT6jM/iU7LkxX1eenH0q8/7/2IRD0jEJr9xCn1nr51HXbAikjnpBM61h5YIeTjQWdKlWL93sbJazKe1t8pbxePxRHrb/lxV0Kerb+VzXxOFn6IWgv8rjxwpl8RMABgHzQaMJQwbbcSJmBULer2LfoGgL06ZAFDyav9J6s76c/+GpVT1i9eK784L9GZ6coO754Chjov1GNq8zIZ9TwaVjX2p/4wLk88v5sRborUtjz54Zp87D4CVlMBJzrlG0XRXui1F5XBwabfw/M3Udfy4e9HK65FP62q93fud/IUl8d2QNvxswkYALAP9hAwlF3bbmXXgLFDmOBJUgBMakLA2IM9/sBdKAfwQ3te+slPpUfIBnDXYYzXuCbrPXZ7alWQkD+0BwA4RGi7ARxyRytg/H/jPEmqar0GAAAAcEgRMA6xoN/CAAAAAA4zAsah9VaeLyQqnxQFAAAAHHIEDAAAAADGEDAAAAAAGEPAAAAAAGAMAQMAAACAMQQMAAAAAMYQMAAAAAAYQ8AAAAAAYAwBAwAAAIAxBAwAAAAAxhAwAAAAABhDwAAAAABgDAEDAAAAgDEEDAAAAADGEDAAAAAAGEPAAAAAAGBMVcD4+e9ZAAAAAGgIIxgAAAAAjCFgAAAAADCGgAEAAADAGAIGAAAAAGMIGAAAAACMIWAAAAAAMIaAAQAAAMAYAgYAAAAAYwgYAAAAAIwhYAAAAAAwhoABAAAAwBgCBgAAAABjCBgAAAAAjCFgAAAAADCGgAEAAADAGAIGAAAAAGMIGAAAAACMaULA2JJMckmSHqmVLSkUK48rJEelrTUqsUfvKrYDAHAUFVaXJbmYl4Jv+8bKskzF4zIUf6jqYbFiX/FtXia+7ZLue3nf9kobGVVPM1uB+0xq7Ds451XU/heSLVQe4/YPMq/92wEcNU0IGMsSa+2SFr8zQzK16jluZU6udt6u3AYAwBGVuxeTlm8TknO3FfMy812vqoFR+eJin3Rc7LFurHXEnkqudNMtXMBI3VJ19NZy4D6TGvsOznlVtV8dN7zsCSt2/yCWKp8H4GhqWsCoaCw312QsGpWWy3OSrTgWAIDjwd85z8b7pSUSk4ls+ZhCZla6I94aebgDRrjv4AaMuKSc19a2+VG5oELGQNKdqUDAAI6LwxEwtEdjqvGJydQrz7YaCq+LVdOqKhTfycZuxwAAcEAqO+frMtbZJR3j61XHZcb7pKVzVjLWa1/AsGpb9dTh0AFjj7Wxse8QHDCs73alS9qG3esmYADHxaEJGBvTQ9ISUY2P2+jlEtKtAsdErvL13fk5uXqmPLz6zegL31zQomTit+WLiOeYkSWZiql/e+662I1xStKjNyTiXE96pCd4FOV1Sq6r97s6vf/zWwEAx9NGak6G4suyYb2u0Zm2bri5nXEnYEwsycxgv1WvrNp2pl8Gpssd++yDuAw9qO7ol2wuy92onr7knB/pkW5VG73TmIqpuPW58+n78o2us56a6WrsO+wQMIovZOS8tz+wLjPDcZnxjIYAOJqaFjA6Yg+dhV4PZSw2ZA2TXp3yhI7AgBGVtjMxGUvnrTswWWd4te9BeUFZVjVibZEbMpRct47ZyL2QCWt+aGVjaQWM8z3S0TUp8yvrkn31TorZObnU2iMjaecz3ffUQ8DnJyXNaAgAwIganXOno+8NGG2RqFwaXpKsrmuv85K+96NV/7q9dXMnBfVZ7V0SuXZfUll9vqqfqfvWzboLtzxrIKzP7ZFzF2/IyPyaZFe3qhZzVwr7HdyAMSR3nUXe8/fuS9/XqqZfVMdULfYGcNQ1LWC0ne2Tjk5Xr0RUQ/lF75xk3IYmMGD4RxHeyfygCgrusPBmSq6r97k+6xtpKNoNdHXAUA3btuc49X7J76PScu2hc3dGce6wXIrXuDMEAEBd6gwYvalyXXJkxvX6B3XcLje/MqO90tIecJNsaVKFlB4ZWXJeOwEjlgr79MZ6A0ZULpTqvnJW1dsz/RJLMDsAOG6aFjCq1mBsLklMdeTPjTjXEBgwbsiE76lSFfNOF+PS1npbZjYrj9GyEzeqA0Zsqeo4u8Htl7EV+7U9dWtUkhVBBACAvagvYFyfrX70a3F1Tr7x1slA9vnn7gTVd98UJetzxyQZerS+3oBRfu3Kxu2RjSkeTQscK4cnYCjWGgg3BAQGjOqGdE8BI3BB3JZMXeuStu+fSkEvYLvcJRcCG2YAABpl18KBRPVoQSEx2sSAUR0Cdhb2O+wcMIqvH8rVnUIKgCPrEAWMosx/pzr97jBwIwGj3ilSgQFDNYyqkT3XOiQT0/b/c2cFAGBWUWZ6u6RtUN/Mqtw+Pxgt18IDnyJVT8AI+x1qBIzMfenwXgOAY6FpAaO8yFtLyUTshrS19srQonMnpJGAodS1yHuHgGE9eu+y2q/OOaeOqb3IDQCA+hUW49ZC7UvDKcnkdL1ak/lhuxaWO9xOwDiwRd71BIyw36F6kbdlWl2Duq62aLk2AzgemhYwrA5/SVS++HpUJpY8Q8ANBgx95yT8Y2p3ChiqMdRrL/RaDB6XBwDYJxuL96VbL3Z26mHb2dsylvFOh7IDxm6Pqd1VHY+prSdgaLt/BzdgOJ/tOtMrV/3XAOBYaELAOCB7+jEhZx1G1bAvAADmFTaLshHmca07/NBeaPv4I7ShvwOAY+/4Boy9cOel+n4PAwAAAEBtBIwqAb+FAQAAACAUAobfdl7SySVJre5hCBoAAAD4f4qAAQAAAMAYAgYAAAAAYwgYAAAAAIwhYAAAAAAwhoABAAAAwBgCBgAAAABjCBgAAAAAjCFgAAAAADCGgAEAAADAGAIGAAAAAGMIGAAAAACMIWAAAAAAMIaAAQAAAMAYAgYAAAAAYwgYAAAAAIypChg//z0LAAAAAA1hBAMAAACAMQQMAAAAAMYQMAAAAAAYQ8AAAAAAYAwBAwAAAIAxBAwAAAAAxhAwAAAAABhDwAAAAABgDAEDAAAAgDEEDAAAAADGEDAAAAAAGEPAAAAAAGAMAQMAAACAMQQMAAAAAMYQMAAAAAAYQ8AAAAAAYAwBAwAAAIAxzQ0YxXeSTS/JVDwuQ6MJmU+tSW474LgDkrrVJS23lgP3AQCwF4XVZUku5qXg276xsmzXwfhDSa0UK/aFsyWZ5JJkXgftM2sjsyTJzFbl9u28pOcTcnf4vkzMv5Bc0bPPL2zdV++ZSi5Ltol9AgCNa1rA2Fi8L9+cUR361i5pO9snHRd7pE39uyXSJ3331qoa4LAKr4tSqNW41UDAAADsl9y9mLR8m5Ccu62Yl5nvelUdjMoXF906GJWO2NPanfQqyxJT9TOWCtpnlr9OFtKTcimitp3plY7OPrmg6/qZIRnLVAeluup+LiHdrTGZyHm2ATgymhIwCqm4XNCNaH9C0t47LqqxTY0OSUTtuzT6ooGQsbdGloABANgv/oCRjferzrXqRGfLxxQys9KtOuzd9/KlbbtrUsDYfioD6lov3FqSDTcQFbdk/nsVms7HJeUZfai77hMwgCPt4APG65Rctxqk5R0DRFY1wm2tvTKyFLxfj1JsBA6b7tLIFt/JRo0RDgIGAGC/VAaMdRnr7JKO8fWq4zLjfdLSOSsZ33YtuP7VETC21fmv3wXvC8FbJwuJUWlpHZV5//Xo4KGuZyDhfE4jdZ+AARxpBx4wrAa29UeZLwTvt6mG93KXtH3/tNwYFbckORKTL/RQrGq4rCHl6KQkX+n9eZn41t3uUQoLRcnEb1ec+41qxaZi6t+eu0kEDADAftlIzclQfFk2rNc1QsGjMVWn4pJyXxeLkhrdqf5p6zIzHJcZz0hIlexDGbgcdc5XzvTLgG9akl0DU5IevSERdUzQKEr2QVyGHtihqGrKV4mqyVfK5zdU9zeXZWx4TlKb/uMAHAUHHDDeyfygasCiQQ1SpfSdHmk5Pylp67VqXG/1WvM676bWrVGIjdwLmdBzVyO3Zea1SGFT35VJ2XdN5vW/Facxs+6MRG7IUNJ3rm5kCRgAgANXI2Ck4qo+uQEjoP5ll+XuNRUW2tUxNTvtjtWEdEf02o6Hksnp+piXzPSYdKht3hBh1cDzPdLRNSnzK+uSfVV7pKNmwPjWDRiN1n0AR9kBBwxnpCG2FLCvkn3Hw2lgs3NyKWjKVHFdJnr6pDu+5mwLaLA3U3K9NSrXZ31PvSg610LAAAAcuJABI3NfLgTWvxcy0t4l5+7sVreLMvNdVNp6U87ISdnG7G1pa70tM84ogR0w1OeGfHJTuIDRYN0HcKQdcMBwGrArc5IN2OeV1NOXnONyU6rRCXVXI6DBXoxXNKBe2YkbBAwAQBOECxhWp3uH+mfd8Q/s4HvZn3N9NuDxt9YNuPI1WDUwRBBwhQsYjdX9oP0Ajo4DDxiF5Kjq8PfL2ErwfkvBfjLFpbgzz5OAAQA4Vux6VVoI7WEvnm5SwKijBlrXFrgY3V7A7gaMRuo+gKPtwANGaWpSe1ySQYu39P5oVFoio+UFYUyRAgAcK0WZ6e2StkHPw0yc7fODqga6U5oOeopUPTVwaVLOBQWHlVlVs3vK19xI3QdwpB18wNA2lySmGsaWMzckdm/JWXS2Lunp+3L9om5kYr4f6dl9kbd9nGpwz3fJhe9TklXH5BS9nUXeAIDDprBo/zbEpeGUXQdzazI/fEN1+r2B4oAXeddVA/MypYNB+48y5lxbNjUnfaq+VwWauus+gKOsOQFDK+Z9j53VVEP7r/c9j97zHl/rMbVlhXT5l0LLDSWPqQUAHD761627z6oOtlMH287eru5o7/qY2hBCP6a2zhpYXJepwX7rsbbutV26tcMvkddb9wEcWc0LGB7WDwcpO/0Ant/OP7S3i11+aA8AgGawHrUeYjSi4frn2uMP7e2ozvpab90HcLQcioABAAAA4HggYAAAAAAwhoABAAAAwBgCBgAAAABjCBgAAAAAjCFgAAAAADCGgAEAAADAGAIGAAAAAGMIGAAAAACMIWAAAAAAMIaAAQAAAMAYAgYAAAAAYwgYAAAAAIwhYAAAAAAwhoABAAAAwBgCBgAAAABjCBgAAAAAjCFgAAAAADCmKmD8/PcsAAAAADSEEQwAAAAAxhAwAAAAABhDwAAAAABgDAEDAAAAgDEEDAAAAADGEDAAAAAAGEPAAAAAAGAMAQMAAACAMQQMAAAAAMYQMAAAAAAYQ8AAAAAAYAwBAwAAAIAxBAwAAAAAxhAwAAAAABhDwAAAAABgDAEDAAAAgDEEDAAAAADGNCFgbEkmuSSp1XcB+5TXa5JMLkt2O2Bf0+Rl4tsuabm1HLBvbwrJUWlrjUrs0Q5/D+Ps79J9Lx+wDwCwXwqry5JczEvBt31jZVmm4nEZij+U1EqxYl8YG5klSWa2AveZVP/1FyWbUteWWq86x1XIqvdUfYLM5s7vD+DoaULAWJZYa40ObiouLa0xmcgF7Gua/QsYxZU5udp5W6ZWA/btCwIGADRD7l5MWr5NSM7dVszLzHe9quZF5YuLfdJxsce64dQReyq5YuW5taRu7VN98mnk+guqpl9Q2wJrTi4h3ZEuuaCuXYeKqvcHcGQRMELZx4Bx4AgYANAM/g50Nt4vLRFV77LlYwqZWavTXU8b3ayAEfb6s+q8ttZeGVkqH6fDyUQ0Ki3tk5J2wggBAzg+jlbA2C7Kxus9TiUqvgv3HhXH1QgY1nFFKexyt6mwqa69ELyvlkLAewdtq1DzOxIwAKAZKjvQ6zLW2SUd4+tVx2XG+6Slc1Yyvu07CR0wQtarnTR+/XmZssJEXFJWHSyqa+61w4ln9J6AARwfRyNgZB/KwGXVOKnzLGf6ZWDaadSKRZkfVPsuq8bM02jad0xiMubeWSluyfytfom47xHpk757KbnrDw6hj1uXqUHPca1RuTT4ULIVDXdRMvdG5dIZ95guiVwelQl1oaVj9BCx9/s6r+/Oz8lV9zx1DUMpdc5qQq6fdf4OkR65PuX7G4a6dgIGADTDRmpOhuLLsmG9tmthLFV9XPHRmGrDVWdc/XtjXq/T65exFc9+VQusUYK4XQezD+Iy9KC6o1+yuSx3o3r6klsbeqR7ZKlyGpZVe+Myn74v3+jaE9DRb+T6S9sK6vj2LmnrTUnWmTZ1fbZy3Ujl+wM4ypoWMM5Fx2RoWDWKfv/arxomT4f7dUquR/ScTtUo6TsfxXeSVQ2ubpwGEk5H3Wm43HmcduPrnfPp3C1p/1Em0nnrDs5GdkmGvnY666XOd9jjtmSmNyptF8dkPmuPFBSyKRnQjefg09ICNSvkqE5+bHpNcvq9Xq9LcvhG5VBxYMBQ731GhSPrGvKStO709ElHe68MzK9b15WZ0AFKFZ3S0HTYaydgAEDz1eigO519u4Putu3O3X9nalFbNOG7obUDpz5Grt2XlDpB14Zs6r51A6tUMzXrM3vk3MUbMjK/JtnVrV0WW4e9/rLCog4Wqh4pFZ8N4NhpWsBoO6s6zJ0B2nWHuNzhTt/pkZbLc5L1vU96xLd9dc7qmHePJyrDhrY0Kef88z+1wpLEzns633Ud5+3cO9Ke7dtPZUCFHP8dGl0skrfU94w9te/SBAaMLrk67Tnvlb3t3Ijnv09RXZPadn3WCVlhr52AAQCHQB0ddB0qVLvdFp2VCW/Y8J6zg8yoPr68zqFE1YwLKlCUaoYTMGKpsNOQ6w8YxeKa3O3UAUN9ziPv06YAHDdNCxjhpkjZjWrLmd4dgsiozHseZ2tPi1LH+xrf3FRMWs6rBtZ57ZWMlTvfoY/T80RVmLngv6bOXmt60kBCNdCLcXUtt2Vms/q9KgQGjBsV81KDG/LKoBD22gkYAHAY1NlBd6ZFtbT2qnPCds7t9v7cnaDa/kJGzntqgfWZY5IMMypiqTdguOsubsg3emT9vPqskCEJwNFzyAPGlkxFu+SL/jnrOdnV1irmkB5YwNDH/cuPMhZ4TUuSfqXO2VPA8Ly2EDAA4Hix23XrhpRvXyEx2qSA4Q8FtdR3/bpG6enB1rW76zHCTvMCcOQc8oDhTJH6dq6qEbJ+nOfRemkxmP2sbdV4PVqrnp+6L1Ok1DX6f7uisC4pFTD0DwbtbYpU/QGDKVIAcJQUZaa3ct2eu916cElvqrzYubTOcEnS1tq+gPqzg/qmSNUTMOq4ficcVUxdtqY1q22B4QfAUXfoA0axoDvqqhH6LiHp3DspbBclm4zLJb2I232Kkn9Rt3/Rt2rwzC7ydhpQ57jC9rvScTrYuE/eaHyRdwMBI/S1EzAA4DCwFz1H5dJwSjI51Wbn1mTeXyOqFnX7Fn373rNKXYu86wkYIa+/xmiFPeugnhEZAEfF4Q8Y2qslGelyOsqa9fjVNbthrAoTDn/oMP6Y2i1JjtyoeExtR39CMhUNfuOPqa0/YCg8phYAjpSNxfvS7T5+XGk7e1vGSjVihzBR75Ok6nhMbT0BQ6t5/cWiJGM96vNiMlVR01zO96tjRAbA0dCEgLEHTfuhvRpC/nBRoz+015Cw1w4AOBQOpEaErFeNONAaB+DQO1oBAwAAAMChRsAAAAAAYAwBAwAAAIAxBAwAAAAAxhAwAAAAABhDwAAAAABgDAEDAAAAgDEEDAAAAADGEDAAAAAAGEPAAAAAAGAMAQMAAACAMQQMAAAAAMYQMAAAAAAYQ8AAAAAAYExFwHj0bDXwIAAAAAAIQ2eKUsBIr7yU7Tf/G3ggAAAAANSis4TOFKWA8WpjSzKrG4EHAwAAAEAtOkvoTFEKGPp/nufy1g5GMgAAAACEobODzhA6S7jh4r/f/o/8H6kdtFYPgU0uAAAAAElFTkSuQmCC)"
      ]
    },
    {
      "cell_type": "code",
      "metadata": {
        "id": "b2VNakqlSScZ"
      },
      "source": [
        "0o17251"
      ],
      "execution_count": null,
      "outputs": []
    },
    {
      "cell_type": "code",
      "metadata": {
        "id": "AEhnLRQ9SlgA"
      },
      "source": [
        "3+4j"
      ],
      "execution_count": null,
      "outputs": []
    },
    {
      "cell_type": "code",
      "metadata": {
        "id": "iNeKtdbNSoQ4"
      },
      "source": [
        "type(3+4j)"
      ],
      "execution_count": null,
      "outputs": []
    },
    {
      "cell_type": "markdown",
      "metadata": {
        "id": "zieWi7dN-CH4"
      },
      "source": [
        "# Basic arithmetic in python\n",
        "\n",
        "---\n",
        "\n"
      ]
    },
    {
      "cell_type": "markdown",
      "metadata": {
        "id": "drnur-dDCynT"
      },
      "source": [
        "## Addition +\n",
        "\n",
        "---\n",
        "\n"
      ]
    },
    {
      "cell_type": "code",
      "metadata": {
        "id": "dYZKyfwh9ppZ"
      },
      "source": [
        "print(1+2)\n",
        "type(1+2)"
      ],
      "execution_count": null,
      "outputs": []
    },
    {
      "cell_type": "code",
      "metadata": {
        "id": "1zIVqJpY-zlA"
      },
      "source": [
        "print(1.234+0.111)\n",
        "type(1.234+0.111)"
      ],
      "execution_count": null,
      "outputs": []
    },
    {
      "cell_type": "code",
      "metadata": {
        "id": "DZXAtrt7-34h"
      },
      "source": [
        "1.1+1\n",
        "type(1.1+1)"
      ],
      "execution_count": null,
      "outputs": []
    },
    {
      "cell_type": "code",
      "metadata": {
        "id": "C8Gf7bqySxrV"
      },
      "source": [
        "(3+4j)+(1+3j)"
      ],
      "execution_count": null,
      "outputs": []
    },
    {
      "cell_type": "markdown",
      "metadata": {
        "id": "UcNYOfyGC6pL"
      },
      "source": [
        "## Multiplication *\n",
        "\n",
        "---\n",
        "\n"
      ]
    },
    {
      "cell_type": "code",
      "metadata": {
        "id": "WP69hmfW96yG"
      },
      "source": [
        "print(2*4)\n",
        "type(2*4)"
      ],
      "execution_count": null,
      "outputs": []
    },
    {
      "cell_type": "code",
      "metadata": {
        "id": "BtWQdUvvDRPO"
      },
      "source": [
        "print(2.1*10)"
      ],
      "execution_count": null,
      "outputs": []
    },
    {
      "cell_type": "code",
      "metadata": {
        "id": "JdqmHIERDZ_P"
      },
      "source": [
        "type(2.1*10)"
      ],
      "execution_count": null,
      "outputs": []
    },
    {
      "cell_type": "code",
      "metadata": {
        "id": "-ePtbNURTAUX"
      },
      "source": [
        "2.0*(1+2j)"
      ],
      "execution_count": null,
      "outputs": []
    },
    {
      "cell_type": "markdown",
      "metadata": {
        "id": "Rn8iWxQgDkoX"
      },
      "source": [
        "## Power **\n",
        "\n",
        "---\n",
        "\n"
      ]
    },
    {
      "cell_type": "code",
      "metadata": {
        "id": "2z-8zgEiDsZk"
      },
      "source": [
        "2**10"
      ],
      "execution_count": null,
      "outputs": []
    },
    {
      "cell_type": "code",
      "metadata": {
        "id": "HZnURKHwDt6l"
      },
      "source": [
        "2.1**10"
      ],
      "execution_count": null,
      "outputs": []
    },
    {
      "cell_type": "code",
      "metadata": {
        "id": "C6kX40UsTH2N"
      },
      "source": [
        "(1+1j)**2"
      ],
      "execution_count": null,
      "outputs": []
    },
    {
      "cell_type": "markdown",
      "metadata": {
        "id": "TBZCQ0ZDExww"
      },
      "source": [
        "## Division\n",
        "\n",
        "---\n",
        "\n",
        "\n",
        "\n",
        "\n",
        "1.   Division /\n",
        "2.   Integer (or Floor) Division //\n",
        "3.   Modulo %\n",
        "\n"
      ]
    },
    {
      "cell_type": "code",
      "metadata": {
        "id": "RO70Eo0yFT2R"
      },
      "source": [
        "1/2"
      ],
      "execution_count": null,
      "outputs": []
    },
    {
      "cell_type": "code",
      "metadata": {
        "id": "lFbINMuTErmd"
      },
      "source": [
        "1/3"
      ],
      "execution_count": null,
      "outputs": []
    },
    {
      "cell_type": "code",
      "metadata": {
        "id": "huK2BIzGFk7R"
      },
      "source": [
        "1/8"
      ],
      "execution_count": null,
      "outputs": []
    },
    {
      "cell_type": "code",
      "metadata": {
        "id": "74yoxNMSGDwC"
      },
      "source": [
        "8/1"
      ],
      "execution_count": null,
      "outputs": []
    },
    {
      "cell_type": "code",
      "metadata": {
        "id": "-KxGklCIGH5d"
      },
      "source": [
        "-4/2"
      ],
      "execution_count": null,
      "outputs": []
    },
    {
      "cell_type": "code",
      "metadata": {
        "id": "ZcbxM_9LGlkM"
      },
      "source": [
        "4/-2"
      ],
      "execution_count": null,
      "outputs": []
    },
    {
      "cell_type": "code",
      "metadata": {
        "id": "se9mQwlrGo6I"
      },
      "source": [
        "8/(-3)"
      ],
      "execution_count": null,
      "outputs": []
    },
    {
      "cell_type": "code",
      "metadata": {
        "id": "kh1wAtkRTydG"
      },
      "source": [
        "(1+2j)/2"
      ],
      "execution_count": null,
      "outputs": []
    },
    {
      "cell_type": "code",
      "metadata": {
        "id": "K9n-9D_XT1PR"
      },
      "source": [
        "(1+2j)/(1+3j)"
      ],
      "execution_count": null,
      "outputs": []
    },
    {
      "cell_type": "code",
      "metadata": {
        "id": "qqZ5kCDPT9YK"
      },
      "source": [
        "(1+2j)//1"
      ],
      "execution_count": null,
      "outputs": []
    },
    {
      "cell_type": "code",
      "metadata": {
        "id": "VBqcXIY1S_GQ"
      },
      "source": [
        "(2**1000)%7"
      ],
      "execution_count": null,
      "outputs": []
    },
    {
      "cell_type": "markdown",
      "metadata": {
        "id": "HA33_Qh5GKBu"
      },
      "source": [
        "<b>Note:</b>  Division / always return **float** "
      ]
    },
    {
      "cell_type": "markdown",
      "metadata": {
        "id": "D6ASBY6kG5Aa"
      },
      "source": [
        "Integer Division and Modulo operation are closely related.<br><br>\n",
        "For any number N,\n",
        "```\n",
        "N = (N//a)*a + N%a\n",
        "```\n",
        "N//a gives the result of interger division while N%a returns the remainder of division\n",
        "\n",
        "These operation are inspired by <b><i>Division theorem</b></i> which states that <br><br>\n",
        " \n",
        "<b>'For any integer number N and D', there exists the integer q and R such that\n",
        "\n",
        "N=qD+R where R>0 and |R|<D'</b>\n",
        "\n",
        "<br>\n",
        "For example,\n",
        "\n",
        "<b>10=2*4+2</b><br>\n",
        "means <b>10//4 = 2 and 10%4 = 2</b>\n",
        "</br>\n"
      ]
    },
    {
      "cell_type": "code",
      "metadata": {
        "id": "B0XR5ZjOLnvR"
      },
      "source": [
        "10//4"
      ],
      "execution_count": null,
      "outputs": []
    },
    {
      "cell_type": "code",
      "metadata": {
        "id": "xloNz0pcPqS4"
      },
      "source": [
        "10%4"
      ],
      "execution_count": null,
      "outputs": []
    },
    {
      "cell_type": "code",
      "metadata": {
        "id": "c351pcS3QEfR"
      },
      "source": [
        "100%3"
      ],
      "execution_count": null,
      "outputs": []
    },
    {
      "cell_type": "code",
      "metadata": {
        "id": "u-cAHkx4QGy3"
      },
      "source": [
        "100//3"
      ],
      "execution_count": null,
      "outputs": []
    },
    {
      "cell_type": "markdown",
      "metadata": {
        "id": "__gmxf4cEM9e"
      },
      "source": [
        "# Variables assignment\n",
        "\n",
        "---\n",
        "\n",
        "In python, the values can be temporary stored in our program by assignment to variables"
      ]
    },
    {
      "cell_type": "code",
      "metadata": {
        "id": "N5Gw37NrEzRt"
      },
      "source": [
        "x=200.1"
      ],
      "execution_count": null,
      "outputs": []
    },
    {
      "cell_type": "markdown",
      "metadata": {
        "id": "QbPf8cfPFOyE"
      },
      "source": [
        "This is the example of variable assignment in python."
      ]
    },
    {
      "cell_type": "code",
      "metadata": {
        "id": "LoLchvyMFEPH"
      },
      "source": [
        "x+23"
      ],
      "execution_count": null,
      "outputs": []
    },
    {
      "cell_type": "code",
      "metadata": {
        "id": "tGYVuxKMJ7R_"
      },
      "source": [
        "x=x*2\n",
        "x"
      ],
      "execution_count": null,
      "outputs": []
    },
    {
      "cell_type": "markdown",
      "metadata": {
        "id": "inEzzrRFFNFL"
      },
      "source": [
        "We can delete the variables by the function del()"
      ]
    },
    {
      "cell_type": "code",
      "metadata": {
        "id": "pU_oDJqXFIYe"
      },
      "source": [
        "del(x)"
      ],
      "execution_count": null,
      "outputs": []
    },
    {
      "cell_type": "code",
      "metadata": {
        "id": "oW0FOWVIFJ-x"
      },
      "source": [
        "x"
      ],
      "execution_count": null,
      "outputs": []
    },
    {
      "cell_type": "code",
      "metadata": {
        "id": "38ImigYcFq5Y"
      },
      "source": [
        "x=3\n",
        "y=x+3\n",
        "z=y+3\n",
        "print(x+y+z)\n",
        "del(x)\n",
        "del(y)\n",
        "del(z)"
      ],
      "execution_count": null,
      "outputs": []
    },
    {
      "cell_type": "markdown",
      "metadata": {
        "id": "ozokkRkHCsJO"
      },
      "source": [
        "# Conditional flow in Python\n",
        "\n",
        "---\n",
        "![python14.png](data:image/png;base64,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)\n",
        "\n",
        "\n",
        "If elif else\n",
        "\n",
        "\n",
        "\n"
      ]
    },
    {
      "cell_type": "markdown",
      "metadata": {
        "id": "GyhL63KuASLH"
      },
      "source": [
        "There is built-in type, Boolean, in python for logical value True of False"
      ]
    },
    {
      "cell_type": "code",
      "metadata": {
        "id": "e155Ky7jAIx2"
      },
      "source": [
        "type(True)"
      ],
      "execution_count": null,
      "outputs": []
    },
    {
      "cell_type": "code",
      "metadata": {
        "id": "HnOFj3KcAOf-"
      },
      "source": [
        "False*2"
      ],
      "execution_count": null,
      "outputs": []
    },
    {
      "cell_type": "code",
      "metadata": {
        "id": "jI5Kl7ViAxRc"
      },
      "source": [
        "type(True+False)"
      ],
      "execution_count": null,
      "outputs": []
    },
    {
      "cell_type": "markdown",
      "metadata": {
        "id": "wq1T-TfVAwWt"
      },
      "source": [
        "Logic value represent the integer value 0 for <a>False</a> and 1 for <a>True</a>.<br> These values are used for arithmetric. Logical operation are expressed using <b>and, or, not</b>"
      ]
    },
    {
      "cell_type": "code",
      "metadata": {
        "id": "wvG8yfoMCsHy"
      },
      "source": [
        "not True"
      ],
      "execution_count": null,
      "outputs": []
    },
    {
      "cell_type": "code",
      "metadata": {
        "id": "WK7WmEbyDWAV"
      },
      "source": [
        "not False"
      ],
      "execution_count": null,
      "outputs": []
    },
    {
      "cell_type": "code",
      "metadata": {
        "id": "5bFvHo7sDXyS"
      },
      "source": [
        "True and False"
      ],
      "execution_count": null,
      "outputs": []
    },
    {
      "cell_type": "code",
      "metadata": {
        "id": "D_waFyW2DZ00"
      },
      "source": [
        "True and True"
      ],
      "execution_count": null,
      "outputs": []
    },
    {
      "cell_type": "code",
      "metadata": {
        "id": "oDKR6rj3DdbE"
      },
      "source": [
        "False and False"
      ],
      "execution_count": null,
      "outputs": []
    },
    {
      "cell_type": "code",
      "metadata": {
        "id": "vLgzjVvIDbYS"
      },
      "source": [
        "True or False"
      ],
      "execution_count": null,
      "outputs": []
    },
    {
      "cell_type": "code",
      "metadata": {
        "id": "LyXTBp1cDezl"
      },
      "source": [
        "True or True"
      ],
      "execution_count": null,
      "outputs": []
    },
    {
      "cell_type": "code",
      "metadata": {
        "id": "YjhWbDKvDgGC"
      },
      "source": [
        "False or False"
      ],
      "execution_count": null,
      "outputs": []
    },
    {
      "cell_type": "markdown",
      "metadata": {
        "id": "EsM_Hxp6HALL"
      },
      "source": [
        "We can also create the logic value by making comparison of two numbers"
      ]
    },
    {
      "cell_type": "code",
      "metadata": {
        "id": "q1lsAjldHCQZ"
      },
      "source": [
        "i=5\n",
        "print(i==5)"
      ],
      "execution_count": null,
      "outputs": []
    },
    {
      "cell_type": "code",
      "metadata": {
        "id": "BeZl1HSMHQON"
      },
      "source": [
        "1.0==1"
      ],
      "execution_count": null,
      "outputs": []
    },
    {
      "cell_type": "code",
      "metadata": {
        "id": "X6ocMVZqHSQM"
      },
      "source": [
        "1.0000000000000002==1"
      ],
      "execution_count": null,
      "outputs": []
    },
    {
      "cell_type": "code",
      "metadata": {
        "id": "mha6ZlVNHGbR"
      },
      "source": [
        "3>1"
      ],
      "execution_count": null,
      "outputs": []
    },
    {
      "cell_type": "code",
      "metadata": {
        "id": "wUHu-JiDHIxs"
      },
      "source": [
        "2>=2"
      ],
      "execution_count": null,
      "outputs": []
    },
    {
      "cell_type": "code",
      "metadata": {
        "id": "cA4TzFCMHKvm"
      },
      "source": [
        "3<=3"
      ],
      "execution_count": null,
      "outputs": []
    },
    {
      "cell_type": "code",
      "metadata": {
        "id": "eqESTuHVHNGI"
      },
      "source": [
        "3<4"
      ],
      "execution_count": null,
      "outputs": []
    },
    {
      "cell_type": "code",
      "metadata": {
        "id": "uINUZciIHPnf"
      },
      "source": [
        "x=2\n",
        "y=3\n",
        "x**y>y**x"
      ],
      "execution_count": null,
      "outputs": []
    },
    {
      "cell_type": "markdown",
      "metadata": {
        "id": "G3VHWgk1D6mX"
      },
      "source": [
        "Python condition comes"
      ]
    },
    {
      "cell_type": "code",
      "metadata": {
        "id": "eyyRGpmMD-z8"
      },
      "source": [
        "if True:\n",
        "    print('Hello World')"
      ],
      "execution_count": null,
      "outputs": []
    },
    {
      "cell_type": "code",
      "metadata": {
        "id": "gzpd8LtvGB4o"
      },
      "source": [
        "if -1:\n",
        "    print('Hello World')"
      ],
      "execution_count": null,
      "outputs": []
    },
    {
      "cell_type": "code",
      "metadata": {
        "id": "P8mE3wmJGj-S"
      },
      "source": [
        "if 3:\n",
        "    print('Hello World')"
      ],
      "execution_count": null,
      "outputs": []
    },
    {
      "cell_type": "code",
      "metadata": {
        "id": "jNdlx3reGn76"
      },
      "source": [
        "if False:\n",
        "    print('Hello World')"
      ],
      "execution_count": null,
      "outputs": []
    },
    {
      "cell_type": "code",
      "metadata": {
        "id": "nJ6xqvDgGmlw"
      },
      "source": [
        "if 0:\n",
        "    print('Hello World')"
      ],
      "execution_count": null,
      "outputs": []
    },
    {
      "cell_type": "code",
      "metadata": {
        "id": "pRWXgETXGso3"
      },
      "source": [
        "x= input()\n",
        "if 'e' in x:\n",
        "    if 'a' in x:\n",
        "      print('There exists the letter e and a in the input')\n",
        "    else:\n",
        "      print('There exists the letter e')\n",
        "elif 'a' in x:\n",
        "    print('There is an a')\n",
        "else:\n",
        "    print('I want to sleep')"
      ],
      "execution_count": null,
      "outputs": []
    },
    {
      "cell_type": "code",
      "metadata": {
        "id": "IEcHpsqyIr-c"
      },
      "source": [
        "x=int(input())\n",
        "y=int(input())\n",
        "if x>y:\n",
        "    print('The first number is larger')\n",
        "elif y>x:\n",
        "    print('The second comes larger')\n",
        "else:\n",
        "    print('They are equal and you know it')"
      ],
      "execution_count": null,
      "outputs": []
    },
    {
      "cell_type": "markdown",
      "metadata": {
        "id": "-GesvmV0L6jX"
      },
      "source": [
        "# Python List\n",
        "\n",
        "---\n",
        "\n"
      ]
    },
    {
      "cell_type": "code",
      "metadata": {
        "id": "E6DddC80MAF1"
      },
      "source": [
        "x=[1,\n",
        "   True,\n",
        "   's',\n",
        "   [1,2,3,4,5],\n",
        "   6]"
      ],
      "execution_count": null,
      "outputs": []
    },
    {
      "cell_type": "code",
      "metadata": {
        "id": "PkcxUE4UMDXe"
      },
      "source": [
        "type(x)"
      ],
      "execution_count": null,
      "outputs": []
    },
    {
      "cell_type": "markdown",
      "metadata": {
        "id": "A7E230I5MfrB"
      },
      "source": [
        "In python, we can store many type of data in one variable using <a>list</a>.<br>\n",
        "Each element can be accesed using index(starting from 0) subscription. For example"
      ]
    },
    {
      "cell_type": "code",
      "metadata": {
        "id": "-zBz6fhuMWkO"
      },
      "source": [
        "x[0]"
      ],
      "execution_count": null,
      "outputs": []
    },
    {
      "cell_type": "code",
      "metadata": {
        "id": "Asof33gcNAh9"
      },
      "source": [
        "x[1]"
      ],
      "execution_count": null,
      "outputs": []
    },
    {
      "cell_type": "code",
      "metadata": {
        "id": "stHTQvwUNEuU"
      },
      "source": [
        "x[3]"
      ],
      "execution_count": null,
      "outputs": []
    },
    {
      "cell_type": "markdown",
      "metadata": {
        "id": "Qz5pkyTNNMye"
      },
      "source": [
        "Since x[3] is list too, its element can be accessed by addtional subscript index. "
      ]
    },
    {
      "cell_type": "code",
      "metadata": {
        "id": "zRTEgDg5NcvI"
      },
      "source": [
        "x[3][2]"
      ],
      "execution_count": null,
      "outputs": []
    },
    {
      "cell_type": "markdown",
      "metadata": {
        "id": "IkKNVEZgNofO"
      },
      "source": [
        "The length of data stored in a list can be found by function len()"
      ]
    },
    {
      "cell_type": "code",
      "metadata": {
        "id": "RcYeSaDMNv8z"
      },
      "source": [
        "len(x)"
      ],
      "execution_count": null,
      "outputs": []
    },
    {
      "cell_type": "code",
      "metadata": {
        "id": "qmVf77waNze8"
      },
      "source": [
        "x=[1,2,3]\n",
        "len(x)"
      ],
      "execution_count": null,
      "outputs": []
    },
    {
      "cell_type": "markdown",
      "metadata": {
        "id": "oEPcZMTMN9sV"
      },
      "source": [
        "We can also check if there is a element we want in a list using a keyword in"
      ]
    },
    {
      "cell_type": "code",
      "metadata": {
        "id": "JO5ug5KhOLu_"
      },
      "source": [
        "2 in x"
      ],
      "execution_count": null,
      "outputs": []
    },
    {
      "cell_type": "code",
      "metadata": {
        "id": "xLjlM_5LON93"
      },
      "source": [
        "20 in x"
      ],
      "execution_count": null,
      "outputs": []
    },
    {
      "cell_type": "markdown",
      "metadata": {
        "id": "oo2eXwsgcz5j"
      },
      "source": [
        "We can modify the element in our list if we know its index"
      ]
    },
    {
      "cell_type": "code",
      "metadata": {
        "id": "J0bEX2Kcc9FR"
      },
      "source": [
        "x=[1,2,3,4,5]\n",
        "x"
      ],
      "execution_count": null,
      "outputs": []
    },
    {
      "cell_type": "code",
      "metadata": {
        "id": "UXBxnOUsdH-I"
      },
      "source": [
        "x[3]=2\n",
        "x"
      ],
      "execution_count": null,
      "outputs": []
    },
    {
      "cell_type": "markdown",
      "metadata": {
        "id": "rMR_tlbJUprF"
      },
      "source": [
        "## List: Append, Addition and Extension<br>\n"
      ]
    },
    {
      "cell_type": "code",
      "metadata": {
        "id": "RXoki_x2VB4K"
      },
      "source": [
        "x=[1,2,3,4,5,6,8]\n",
        "print(x)"
      ],
      "execution_count": null,
      "outputs": []
    },
    {
      "cell_type": "code",
      "metadata": {
        "id": "NbZvO0DSVI-T"
      },
      "source": [
        "x.append([11,12,13])\n",
        "print(x)"
      ],
      "execution_count": null,
      "outputs": []
    },
    {
      "cell_type": "code",
      "metadata": {
        "id": "k8pmvfisVN4G"
      },
      "source": [
        "print(x+[10])"
      ],
      "execution_count": null,
      "outputs": []
    },
    {
      "cell_type": "code",
      "metadata": {
        "id": "0COPdJWtVSR1"
      },
      "source": [
        "print(x)"
      ],
      "execution_count": null,
      "outputs": []
    },
    {
      "cell_type": "code",
      "metadata": {
        "id": "-lH3lnSUZuFk"
      },
      "source": [
        "x=x+[7]\n",
        "print(x)"
      ],
      "execution_count": null,
      "outputs": []
    },
    {
      "cell_type": "code",
      "metadata": {
        "id": "k9cpowgxVnh3"
      },
      "source": [
        "x=[1,2,3,4]\n",
        "y=[5,6,7,8]\n",
        "print(x+y)"
      ],
      "execution_count": null,
      "outputs": []
    },
    {
      "cell_type": "code",
      "metadata": {
        "id": "utjqxmsLVt86"
      },
      "source": [
        "x.append(y)\n",
        "print(x)"
      ],
      "execution_count": null,
      "outputs": []
    },
    {
      "cell_type": "markdown",
      "metadata": {
        "id": "cSOfjRQPck1O"
      },
      "source": [
        "## Adding element\n",
        "\n",
        "---\n",
        "\n",
        "We can add element to the middle of existing list using <a>insert</a>"
      ]
    },
    {
      "cell_type": "code",
      "metadata": {
        "id": "5q9dUbugdx9N"
      },
      "source": [
        "x=[1,2,3,4,5,6]\n",
        "list(x).remove\n",
        "print(x)"
      ],
      "execution_count": null,
      "outputs": []
    },
    {
      "cell_type": "code",
      "metadata": {
        "id": "S3m3ul4He6Di"
      },
      "source": [
        "x.insert(20,50)\n",
        "print(x)\n",
        "x.remove"
      ],
      "execution_count": null,
      "outputs": []
    },
    {
      "cell_type": "markdown",
      "metadata": {
        "id": "KaXOHYvjbhk7"
      },
      "source": [
        "## List slicing\n",
        "\n",
        "---\n",
        "We can subset the list using subsription []\n"
      ]
    },
    {
      "cell_type": "code",
      "metadata": {
        "id": "XgjGPFG9bzVu"
      },
      "source": [
        "\n",
        "print('x[:] = ',x[:])\n",
        "print('x[0:] = ',x[0:])\n",
        "print('x[1:5] = ',x[1:5])"
      ],
      "execution_count": null,
      "outputs": []
    },
    {
      "cell_type": "code",
      "metadata": {
        "id": "YfQ3QIFCbqjI"
      },
      "source": [
        "x=[1,2,3,4,5,6,7,8,9,10]\n",
        "x[1:1:-1]"
      ],
      "execution_count": null,
      "outputs": []
    },
    {
      "cell_type": "markdown",
      "metadata": {
        "id": "U1nrdLK9aUvd"
      },
      "source": [
        "We cannot use <a>append</a> method to join list together"
      ]
    },
    {
      "cell_type": "code",
      "metadata": {
        "id": "L3zO7kjPbJ3X"
      },
      "source": [
        "x=[-1,2,3,4,5,6,7]\n",
        "y=[8,9,10]\n",
        "x.append(y)\n",
        "x"
      ],
      "execution_count": null,
      "outputs": []
    },
    {
      "cell_type": "code",
      "metadata": {
        "id": "zax3QwvGaIfe"
      },
      "source": [
        "x=[1,2,3,5,4,6,7]\n",
        "y=[1,8,9,10]\n",
        "x.count (1)\n",
        "print (x)"
      ],
      "execution_count": null,
      "outputs": []
    },
    {
      "cell_type": "markdown",
      "metadata": {
        "id": "U6R7D69CPQzo"
      },
      "source": [
        "# range()\n",
        "\n",
        "<b>range(start,end, step)</b> is a function that returns a sequence of integer in the interval [<b>start,end</b>) with separation of <b>step</b>"
      ]
    },
    {
      "cell_type": "code",
      "metadata": {
        "id": "8AlL9kGEPzQn"
      },
      "source": [
        "print(range(0,10,2))"
      ],
      "execution_count": null,
      "outputs": []
    },
    {
      "cell_type": "code",
      "metadata": {
        "id": "8YUjBG4VQfqy"
      },
      "source": [
        "for i in range(0,10,2):\n",
        "    print(i)"
      ],
      "execution_count": null,
      "outputs": []
    },
    {
      "cell_type": "markdown",
      "metadata": {
        "id": "WTJX0pFCQpSH"
      },
      "source": [
        "# Loop\n",
        "\n",
        "---\n",
        "\n",
        "The greatness of computer is its diligence. "
      ]
    },
    {
      "cell_type": "markdown",
      "metadata": {
        "id": "YH5NFyySQtaT"
      },
      "source": [
        "## for loop: definite iterations"
      ]
    },
    {
      "cell_type": "code",
      "metadata": {
        "id": "E6KCStvoRBUK"
      },
      "source": [
        "x = [1,'s', True, [1,2,3]]\n",
        "for i in x:\n",
        "    print(i)"
      ],
      "execution_count": null,
      "outputs": []
    },
    {
      "cell_type": "markdown",
      "metadata": {
        "id": "gziRSN7FSCJD"
      },
      "source": [
        "This example shows how we can find the sum of 1 to 100"
      ]
    },
    {
      "cell_type": "code",
      "metadata": {
        "id": "qiIhTyTeRaO6"
      },
      "source": [
        "sum=0\n",
        "for i in range(0,101):\n",
        "    sum=sum+i\n",
        "print(sum)"
      ],
      "execution_count": null,
      "outputs": []
    },
    {
      "cell_type": "markdown",
      "metadata": {
        "id": "1mlgkEsUSRvq"
      },
      "source": [
        "Two examples below shows how we can find the sum of even integer up until 100 by loop."
      ]
    },
    {
      "cell_type": "code",
      "metadata": {
        "id": "8XBfEr-6SLWe"
      },
      "source": [
        "sum=0\n",
        "for i in range(0,101,2):\n",
        "    sum=sum+i\n",
        "print(sum)"
      ],
      "execution_count": null,
      "outputs": []
    },
    {
      "cell_type": "code",
      "metadata": {
        "id": "73_N7Q3yShMG"
      },
      "source": [
        "sum=0\n",
        "for i in range(0,101):\n",
        "    if i%2==0:\n",
        "        sum=sum+i\n",
        "print(sum)"
      ],
      "execution_count": null,
      "outputs": []
    },
    {
      "cell_type": "code",
      "metadata": {
        "id": "fJWAmWVYHGpY"
      },
      "source": [
        "for i in range(20):\n",
        "    print('looping ....')\n",
        "print(i)"
      ],
      "execution_count": null,
      "outputs": []
    },
    {
      "cell_type": "markdown",
      "metadata": {
        "id": "VufC6mgzQ1HR"
      },
      "source": [
        "## while loop: indefinite iterations"
      ]
    },
    {
      "cell_type": "code",
      "metadata": {
        "id": "uepafnyDQzgo"
      },
      "source": [
        "x=0\n",
        "while x<100:\n",
        "    x=x+1\n",
        "    print(x)\n",
        "print('Done')"
      ],
      "execution_count": null,
      "outputs": []
    },
    {
      "cell_type": "code",
      "metadata": {
        "id": "ec2DJQo6TTTE",
        "cellView": "both"
      },
      "source": [
        "x=0\n",
        "while True:\n",
        "    print('Hello World'+str(x))\n",
        "    x=x+1"
      ],
      "execution_count": null,
      "outputs": []
    }
  ]
}