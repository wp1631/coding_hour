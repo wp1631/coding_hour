{
 "cells": [
  {
   "cell_type": "markdown",
   "metadata": {},
   "source": [
    "# Problem 1:  Grading System\n",
    "___\n",
    "1. A teacher try to create automated grader which takes a score from a student and print out the letter grade as follow:\n",
    "    * S: Score>90\n",
    "    * A: 80<=Score<90\n",
    "    * B+: 75<=Score<80\n",
    "    * B: 70<=Score<75\n",
    "    * C+: 65<=Score<70\n",
    "    * C: 60<=Score<65\n",
    "    * D+: 55<=Score<60\n",
    "    * D: 50<=Score<55\n",
    "    * F: Score<50\n",
    "The code he used was"
   ]
  },
  {
   "cell_type": "code",
   "execution_count": 1,
   "metadata": {},
   "outputs": [
    {
     "name": "stdout",
     "output_type": "stream",
     "text": [
      "Score : 90\n",
      "A\n",
      "B+\n",
      "B\n",
      "C+\n",
      "C\n",
      "D+\n",
      "D\n"
     ]
    }
   ],
   "source": [
    "score=float(input('Score : '))\n",
    "if score>90:\n",
    "    print('S')\n",
    "if score>=80:\n",
    "    print('A')\n",
    "if score>=75:\n",
    "    print('B+')\n",
    "if score>=70:\n",
    "    print('B')\n",
    "if score>=65:\n",
    "    print('C+')\n",
    "if score>=60:\n",
    "    print('C')\n",
    "if score>=55:\n",
    "    print('D+')\n",
    "if score>=50:\n",
    "    print('D')\n",
    "if score<50:\n",
    "    print('F')"
   ]
  },
  {
   "cell_type": "markdown",
   "metadata": {},
   "source": [
    "Score of 80 print all letter grade except for 'F'. <b>The teacher want to know how to modify this code to print only one correct grade</b>"
   ]
  },
  {
   "cell_type": "markdown",
   "metadata": {},
   "source": [
    "# Problem 2: Among Us\n",
    "___\n",
    "\n",
    "## Sub 1: Identifier\n",
    "Write the code to tell if the input IDs belong to crewmmate or not.\n",
    "The IDs of this mission have the security measures to verify a forge IDs. IDs of crewmates should follows\n",
    "1. Sum of second digit and third digit = fifth digit \n",
    "2. Product of second digit and third digit =seventh digit\n",
    "3. Fifth digit - third digit = eightth digit\n",
    "4. IDs all contain 8 digits<br>\n",
    "<b> Hint : Use the list of ID's digits or use string of IDs</b><br>\n",
    "<br>Note that string element can be accessed using index like list element\n",
    "<br>for a string variable x='abcdefg'<br>x[4] is fifth character of string which is 'e'"
   ]
  },
  {
   "cell_type": "code",
   "execution_count": 2,
   "metadata": {},
   "outputs": [],
   "source": [
    "## Your code"
   ]
  },
  {
   "cell_type": "markdown",
   "metadata": {},
   "source": [
    "## Sub 2: Who is an imposter\n",
    "In the mission on a spaceship, there is a spy(or more) sent there to kill all of 10 crewmates. The spy had managed to kill 'Bill' one of the team and cut off all communication with the earth. Ship residents found the corpse and then call the emergency meeting to 'float' the spy into the space. In the meeting, 'Jane' asks for the IDs of all <b>true</b> crewmates.\n",
    "\n",
    "1. 'Mr. X' : 52113922\n",
    "2. 'Armine' : 59019209\n",
    "3. 'O' :  54286984\n",
    "4. 'Neuron' : 57158077\n",
    "5. 'Axiom' :  5813928\n",
    "6. 'Mos' : 59334418\n",
    "7. 'Rabbit' : 66066606\n",
    "8. 'Dart' : 31536351\n",
    "9. 'Polar Bear' : 55541754\n",
    "\n",
    "Find all imposters"
   ]
  },
  {
   "cell_type": "code",
   "execution_count": 3,
   "metadata": {},
   "outputs": [],
   "source": [
    "## Your code"
   ]
  },
  {
   "cell_type": "markdown",
   "metadata": {},
   "source": [
    "# Problem 3: 1-Vars Statistics by Manual Iteration\n",
    "___\n",
    "See the code example below "
   ]
  },
  {
   "cell_type": "code",
   "execution_count": 2,
   "metadata": {},
   "outputs": [],
   "source": [
    "## Initialize\n",
    "X=[]\n",
    "X_sum=0"
   ]
  },
  {
   "cell_type": "markdown",
   "metadata": {},
   "source": [
    "Initialize cell should be run once we need to reset the summation process"
   ]
  },
  {
   "cell_type": "code",
   "execution_count": 3,
   "metadata": {},
   "outputs": [
    {
     "name": "stdout",
     "output_type": "stream",
     "text": [
      "Put in another number: 20\n",
      "Total input :  1\n",
      "Data :  [20.0]\n",
      "Mean :  20.0\n"
     ]
    }
   ],
   "source": [
    "number=float(input('Put in another number: '))\n",
    "X.append(number)\n",
    "X_sum+=number\n",
    "print('Total input : ',len(X))\n",
    "print('Data : ', X)\n",
    "print('Mean : ',X_sum/len(X))"
   ]
  },
  {
   "cell_type": "code",
   "execution_count": 4,
   "metadata": {},
   "outputs": [
    {
     "name": "stdout",
     "output_type": "stream",
     "text": [
      "Put in another number: 20.3\n",
      "Total input :  2\n",
      "Data :  [20.0, 20.3]\n",
      "Mean :  20.15\n"
     ]
    }
   ],
   "source": [
    "number=float(input('Put in another number: '))\n",
    "X.append(number)\n",
    "X_sum+=number\n",
    "print('Total input : ',len(X))\n",
    "print('Data : ', X)\n",
    "print('Mean : ',X_sum/len(X))"
   ]
  },
  {
   "cell_type": "markdown",
   "metadata": {},
   "source": [
    "**Construct the SD calculator using above method**\n",
    "If you run the last cell again and put in more number we can find the sum of all input.<br>\n",
    "Using the same method,we can find the standard deviation (population sd is easier) of all input.\n",
    "\n",
    "Then find the mean and sd of (1 2 3 4 5 6 7 8 9 10 11 12 13 14 15 16 17 18 19 20)"
   ]
  },
  {
   "cell_type": "code",
   "execution_count": null,
   "metadata": {},
   "outputs": [],
   "source": [
    "## Your code here for initializing"
   ]
  },
  {
   "cell_type": "code",
   "execution_count": null,
   "metadata": {},
   "outputs": [],
   "source": [
    "## Your code here for manual iteration\n",
    "## You can repeatly run this cell to do iteration"
   ]
  },
  {
   "cell_type": "markdown",
   "metadata": {},
   "source": [
    "# Problem 4: CCCN in Tomato Noodles\n",
    "\n",
    "## Note : List Comprehension\n",
    "เราสามารถใช้ list comprehension ในการสร้าง list จาก statement ได้เช่น\n"
   ]
  },
  {
   "cell_type": "code",
   "execution_count": 5,
   "metadata": {},
   "outputs": [
    {
     "name": "stdout",
     "output_type": "stream",
     "text": [
      "[[1, 6], [1, 7], [1, 8], [1, 9], [1, 10], [2, 6], [2, 7], [2, 8], [2, 9], [2, 10], [3, 6], [3, 7], [3, 8], [3, 9], [3, 10], [4, 6], [4, 7], [4, 8], [4, 9], [4, 10], [5, 6], [5, 7], [5, 8], [5, 9], [5, 10]]\n"
     ]
    }
   ],
   "source": [
    "## Example 1\n",
    "X=[1,2,3,4,5]\n",
    "Y=[6,7,8,9,10]\n",
    "OP=[[x,y] for x in X for y in Y]\n",
    "print(OP)"
   ]
  },
  {
   "cell_type": "code",
   "execution_count": 6,
   "metadata": {},
   "outputs": [
    {
     "name": "stdout",
     "output_type": "stream",
     "text": [
      "[[1, 7], [1, 8], [1, 9], [1, 10], [2, 8], [2, 9], [2, 10], [3, 9], [3, 10], [4, 10]]\n"
     ]
    }
   ],
   "source": [
    "## Example 2 เราสามารถใส่ if statement ลงไปได้ด้วย\n",
    "X=[1,2,3,4,5]\n",
    "Y=[6,7,8,9,10]\n",
    "OP=[[x,y] for x in X for y in Y if x<y-5]\n",
    "print(OP)"
   ]
  },
  {
   "cell_type": "markdown",
   "metadata": {},
   "source": [
    "หากเราใช้ len() เข้ามาช่วย จะทำให้เราสามารถหารูปแบบที่เป็นไปได้ของลิสต์ตามเงื่อนไขที่กำหนดได้ เช่น"
   ]
  },
  {
   "cell_type": "code",
   "execution_count": 7,
   "metadata": {},
   "outputs": [
    {
     "data": {
      "text/plain": [
       "3"
      ]
     },
     "execution_count": 7,
     "metadata": {},
     "output_type": "execute_result"
    }
   ],
   "source": [
    "len([[x,y] for x in range(3) for y in range(3) if x>y])"
   ]
  },
  {
   "cell_type": "markdown",
   "metadata": {},
   "source": [
    "ซึ่งบอกเราว่ารูปแบบที่เป็นไปได้ทั้งหมดที่ x และ y ในช่วง 0-2 ที่เข้าเงื่อนไข x>y นั้น มีแค่ 3 รูปแบบ โดยมีรูปแบบทั้งหมดคือ"
   ]
  },
  {
   "cell_type": "code",
   "execution_count": 8,
   "metadata": {},
   "outputs": [
    {
     "data": {
      "text/plain": [
       "[[1, 0], [2, 0], [2, 1]]"
      ]
     },
     "execution_count": 8,
     "metadata": {},
     "output_type": "execute_result"
    }
   ],
   "source": [
    "[[x,y] for x in range(3) for y in range(3) if x>y]"
   ]
  },
  {
   "cell_type": "markdown",
   "metadata": {},
   "source": [
    "\n",
    "## Sub 1: กินได้กี่แบบ\n",
    "วันนึงในสัปดาห์สุดท้ายของเดือนกันยายน แลบ CCCN เดินทางไปฉลองสิ้นเดือนที่ร้าน Tomato Noodles เปิดดูเมนู พบรายการอาหารและราคาดังนี้\n",
    "1. ราเมงสุขภาพดีลักซ์ : 220 บาท\n",
    "2. ราเมงหิมะ : 180 บาท\n",
    "3. ข้าวหอมญี่ปุ่นหมูย่างดีลักซ์ : 150 บาท\n",
    "4. เซตราเมงสุขภาพดีลักซ์ : 290 บาท\n",
    "5. ข้าวเปล่า : 20 บาท\n",
    "<br>ในตอนนั้น ในแลบมีคนไปทั้งหมด 5 คน อยากทราบว่า จะมีวิธีการกี่วิธีในการเลือกทานอาหาร โดยมีเงื่อนไขว่า\n",
    "1. คนที่หนึ่งไม่ทานอาหารชนิดเดียวกับคนที่ห้า\n",
    "2. คนที่สองไม่ทานอาหารชนิดเดียวกันกับคนที่หนึ่งและสาม\n",
    "3. คนที่สี่ทานเหมือนคนที่ห้า\n",
    "<br>จงใช้ List comprehension และ ฟังก์ชัน len() หารูปแบบที่ทานอาหารได้ และจำนวนทั้งหมด"
   ]
  },
  {
   "cell_type": "code",
   "execution_count": null,
   "metadata": {},
   "outputs": [],
   "source": []
  },
  {
   "cell_type": "markdown",
   "metadata": {},
   "source": [
    "## Sub 2: มื้อนี้เท่าไหร่\n",
    "Hint: สร้าง list ของรายการอาหาร และราคาแยกกัน และใช้ index ให้เกิดประโยชน์\n",
    "จงใช้ List comprehension สร้างลิสต์ ที่แต่ละองค์ประกอบคือลิสต์ที่แสดงรายการอาหารของคนทั้ง 5 ตามด้วยราคารวมของอาหารทั้งหมด\n"
   ]
  },
  {
   "cell_type": "markdown",
   "metadata": {},
   "source": [
    "## Sub 3: เงินพอแค่ไหนก็เลือกได้แค่นั้น\n",
    "ถ้ามีเงินจำกัด เราจะกินได้แค่กี่แบบกัน\n",
    "<br>\n",
    "จงใช้ List comprehension เพื่อหาจำนวนรูปแบบการเลือกเมนูที่เป็นไปได้ หากมีเงินจำกัด"
   ]
  },
  {
   "cell_type": "code",
   "execution_count": null,
   "metadata": {},
   "outputs": [],
   "source": [
    "Money=float(input('มื้อนี้มีงบ ')) ## ใส่เงินหน่วยบาท\n",
    "## Your code here"
   ]
  },
  {
   "cell_type": "code",
   "execution_count": null,
   "metadata": {},
   "outputs": [],
   "source": []
  }
 ],
 "metadata": {
  "kernelspec": {
   "display_name": "Python 3",
   "language": "python",
   "name": "python3"
  },
  "language_info": {
   "codemirror_mode": {
    "name": "ipython",
    "version": 3
   },
   "file_extension": ".py",
   "mimetype": "text/x-python",
   "name": "python",
   "nbconvert_exporter": "python",
   "pygments_lexer": "ipython3",
   "version": "3.6.8"
  }
 },
 "nbformat": 4,
 "nbformat_minor": 4
}
