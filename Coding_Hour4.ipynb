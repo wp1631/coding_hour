{
  "nbformat": 4,
  "nbformat_minor": 0,
  "metadata": {
    "colab": {
      "name": "Coding_Hour4.ipynb",
      "provenance": [],
      "collapsed_sections": [],
      "toc_visible": true
    },
    "kernelspec": {
      "name": "python3",
      "display_name": "Python 3"
    }
  },
  "cells": [
    {
      "cell_type": "markdown",
      "metadata": {
        "id": "J6KCfOgPZeae"
      },
      "source": [
        "# $\\text{Tuple}$\n",
        "___\n",
        "Tuple is a built-in object type in python which resembles list. The basics of tuple in this lesson are:\n",
        " * Tuple bsics\n",
        "  - Constructions\n",
        "  - Indexing\n",
        "  - Unpacking\n",
        " * Immutable Vs Mutable\n",
        "\n"
      ]
    },
    {
      "cell_type": "markdown",
      "metadata": {
        "id": "mwEVyzHfpW1W"
      },
      "source": [
        "## $\\text{Tuple basics}$\n",
        "We can construct tuples by calling the function <a>tuple</a>(iterable) or by the parentheses(). Here are few examples of tuple definition."
      ]
    },
    {
      "cell_type": "markdown",
      "metadata": {
        "id": "y3qQAybduI36"
      },
      "source": [
        "### $\\text{Constructions}$"
      ]
    },
    {
      "cell_type": "code",
      "metadata": {
        "id": "Ye8ovcD-lTvO"
      },
      "source": [
        "lst=[0,5,10,15,20,25,30]\n",
        "tup_from_list=tuple(lst)"
      ],
      "execution_count": null,
      "outputs": []
    },
    {
      "cell_type": "code",
      "metadata": {
        "id": "6jZRMiEAmBzt",
        "outputId": "9463a534-c22d-4b0d-9f7f-89ba2b3e3b81",
        "colab": {
          "base_uri": "https://localhost:8080/",
          "height": 34
        }
      },
      "source": [
        "print('This is ',type(tup_from_list),'with value ',tup_from_list)"
      ],
      "execution_count": null,
      "outputs": [
        {
          "output_type": "stream",
          "text": [
            "This is  <class 'tuple'> with value  (0, 5, 10, 15, 20, 25, 30)\n"
          ],
          "name": "stdout"
        }
      ]
    },
    {
      "cell_type": "code",
      "metadata": {
        "id": "K-20AUPVmYGv",
        "outputId": "277c8d0a-617f-4ee8-d373-ecdcf6cc3e42",
        "colab": {
          "base_uri": "https://localhost:8080/",
          "height": 34
        }
      },
      "source": [
        "tup_from_range=tuple(range(0,50,5))\n",
        "print('This is ',type(tup_from_range),'with value ',tup_from_range)"
      ],
      "execution_count": null,
      "outputs": [
        {
          "output_type": "stream",
          "text": [
            "This is  <class 'tuple'> with value  (0, 5, 10, 15, 20, 25, 30, 35, 40, 45)\n"
          ],
          "name": "stdout"
        }
      ]
    },
    {
      "cell_type": "code",
      "metadata": {
        "id": "c27CN-yGmvxF",
        "outputId": "681901f5-278b-4966-89de-6c783ce52b47",
        "colab": {
          "base_uri": "https://localhost:8080/",
          "height": 34
        }
      },
      "source": [
        "tup_parentheses=(0,5,10,15,20)\n",
        "print('This is ',type(tup_parentheses),'with value ',tup_parentheses)"
      ],
      "execution_count": null,
      "outputs": [
        {
          "output_type": "stream",
          "text": [
            "This is  <class 'tuple'> with value  (0, 5, 10, 15, 20)\n"
          ],
          "name": "stdout"
        }
      ]
    },
    {
      "cell_type": "markdown",
      "metadata": {
        "id": "N0GFTSconrEh"
      },
      "source": [
        "Elements in tuples can be different in type, like list."
      ]
    },
    {
      "cell_type": "code",
      "metadata": {
        "id": "wwScQXlMn9Q1",
        "outputId": "1c64976f-bd7b-42dc-9855-e3a096265cf5",
        "colab": {
          "base_uri": "https://localhost:8080/",
          "height": 34
        }
      },
      "source": [
        "tup_diff=(1,1.00,'hello')\n",
        "print('This is ',type(tup_diff),'with value ',tup_diff)"
      ],
      "execution_count": null,
      "outputs": [
        {
          "output_type": "stream",
          "text": [
            "This is  <class 'tuple'> with value  (1, 1.0, 'hello')\n"
          ],
          "name": "stdout"
        }
      ]
    },
    {
      "cell_type": "markdown",
      "metadata": {
        "id": "FBO-lGFToENT"
      },
      "source": [
        "Undoubtly, tuples containing tuples are allowed, like list inside list. "
      ]
    },
    {
      "cell_type": "code",
      "metadata": {
        "id": "qpXHuC_5oUuL",
        "outputId": "900b29df-0139-4e40-d072-2ea7eab1698f",
        "colab": {
          "base_uri": "https://localhost:8080/",
          "height": 34
        }
      },
      "source": [
        "tup_tup=(5,7,9,(5,7,9))\n",
        "print('This is ',type(tup_tup),'with value ',tup_tup)"
      ],
      "execution_count": null,
      "outputs": [
        {
          "output_type": "stream",
          "text": [
            "This is  <class 'tuple'> with value  (5, 7, 9, (5, 7, 9))\n"
          ],
          "name": "stdout"
        }
      ]
    },
    {
      "cell_type": "markdown",
      "metadata": {
        "id": "B05zRPRVoT2m"
      },
      "source": [
        "list containing tuples and vice versa are allowed."
      ]
    },
    {
      "cell_type": "code",
      "metadata": {
        "id": "ZsK0uannqsJQ",
        "outputId": "4a8402c1-1d57-4265-dead-ea6e1a46820c",
        "colab": {
          "base_uri": "https://localhost:8080/",
          "height": 34
        }
      },
      "source": [
        "tup_in_list=[5,10,15,tup_tup]\n",
        "print(tup_in_list)"
      ],
      "execution_count": null,
      "outputs": [
        {
          "output_type": "stream",
          "text": [
            "[5, 10, 15, (5, 7, 9, (5, 7, 9))]\n"
          ],
          "name": "stdout"
        }
      ]
    },
    {
      "cell_type": "code",
      "metadata": {
        "id": "goO8s__krPVi",
        "outputId": "87206a2e-02e5-4cc1-d03e-c8e14bfb2af9",
        "colab": {
          "base_uri": "https://localhost:8080/",
          "height": 34
        }
      },
      "source": [
        "list_in_tup=(1,2,3,4,[1,2,3,4])\n",
        "print(list_in_tup)"
      ],
      "execution_count": null,
      "outputs": [
        {
          "output_type": "stream",
          "text": [
            "(1, 2, 3, 4, [1, 2, 3, 4])\n"
          ],
          "name": "stdout"
        }
      ]
    },
    {
      "cell_type": "markdown",
      "metadata": {
        "id": "yKnbZW1dWPtJ"
      },
      "source": [
        "**Parentheses can be omitted in tuple construction**"
      ]
    },
    {
      "cell_type": "code",
      "metadata": {
        "id": "X-4xYg-9WNr6",
        "outputId": "67a67b00-9578-40f7-de69-75b4b2702f97",
        "colab": {
          "base_uri": "https://localhost:8080/",
          "height": 51
        }
      },
      "source": [
        "tup_wo_parentheses=1,2,[1,2,3,4]\n",
        "print(type(tup_wo_parentheses),'\\nvalue = ',tup_wo_parentheses)"
      ],
      "execution_count": null,
      "outputs": [
        {
          "output_type": "stream",
          "text": [
            "<class 'tuple'> \n",
            "value =  (1, 2, [1, 2, 3, 4])\n"
          ],
          "name": "stdout"
        }
      ]
    },
    {
      "cell_type": "markdown",
      "metadata": {
        "id": "4EdU9HTIrOKQ"
      },
      "source": [
        "### $\\text{Indexing}$\n",
        "Like <b>list</b>, index subscriptions are used to access the elements of tuples."
      ]
    },
    {
      "cell_type": "code",
      "metadata": {
        "id": "636Alx_xgtgW"
      },
      "source": [
        "tup=(0,1,2,3,4,5,6,7,8,9,10,11,12)"
      ],
      "execution_count": null,
      "outputs": []
    },
    {
      "cell_type": "code",
      "metadata": {
        "id": "WUD0Cq5cvlt0",
        "outputId": "e63c5340-46ab-4571-e05b-5f44bad689c4",
        "colab": {
          "base_uri": "https://localhost:8080/",
          "height": 34
        }
      },
      "source": [
        "tup[5]"
      ],
      "execution_count": null,
      "outputs": [
        {
          "output_type": "execute_result",
          "data": {
            "text/plain": [
              "5"
            ]
          },
          "metadata": {
            "tags": []
          },
          "execution_count": 29
        }
      ]
    },
    {
      "cell_type": "markdown",
      "metadata": {
        "id": "WwfGcBx2vtZb"
      },
      "source": [
        "Slicing the tuple is done the same way as list,"
      ]
    },
    {
      "cell_type": "code",
      "metadata": {
        "id": "iicQPcQGvop7",
        "outputId": "20362730-55e0-4b0b-d514-27b3ff237636",
        "colab": {
          "base_uri": "https://localhost:8080/",
          "height": 34
        }
      },
      "source": [
        "tup[:5]"
      ],
      "execution_count": null,
      "outputs": [
        {
          "output_type": "execute_result",
          "data": {
            "text/plain": [
              "(0, 1, 2, 3, 4)"
            ]
          },
          "metadata": {
            "tags": []
          },
          "execution_count": 30
        }
      ]
    },
    {
      "cell_type": "code",
      "metadata": {
        "id": "ljYsqiTpv0wj",
        "outputId": "6a3f5199-e40f-446e-bdd6-a665a0d4a5c4",
        "colab": {
          "base_uri": "https://localhost:8080/",
          "height": 34
        }
      },
      "source": [
        "tup[:7:2]"
      ],
      "execution_count": null,
      "outputs": [
        {
          "output_type": "execute_result",
          "data": {
            "text/plain": [
              "(0, 2, 4, 6)"
            ]
          },
          "metadata": {
            "tags": []
          },
          "execution_count": 32
        }
      ]
    },
    {
      "cell_type": "markdown",
      "metadata": {
        "id": "H2poMbBbJKSZ"
      },
      "source": [
        "### $\\text{Unpacking}$\n",
        "Tuple unpacking is the method to simultaneously assign each of tuple's element to many variables. "
      ]
    },
    {
      "cell_type": "markdown",
      "metadata": {
        "id": "lJIihQQ3WGUi"
      },
      "source": [
        "### $\\text{Multiple assignment}$"
      ]
    },
    {
      "cell_type": "markdown",
      "metadata": {
        "id": "SFpu2vi8SybB"
      },
      "source": [
        ""
      ]
    },
    {
      "cell_type": "markdown",
      "metadata": {
        "id": "DbQNNzw9v8Yp"
      },
      "source": [
        "## $\\text{Immutable Vs Mutable}$"
      ]
    },
    {
      "cell_type": "markdown",
      "metadata": {
        "id": "_14ulWtklV-A"
      },
      "source": [
        "In object-oriented and functional programming such as python, an <b>immutable</b> object is an object whose state/structure <b>cannot be modified</b> after it is created. You will see an error when you try to change tuple's elements."
      ]
    },
    {
      "cell_type": "code",
      "metadata": {
        "id": "niSmZWV4Y1fb"
      },
      "source": [
        "tup= (0,1,2,3,4,5,6,7,8,9)"
      ],
      "execution_count": null,
      "outputs": []
    },
    {
      "cell_type": "code",
      "metadata": {
        "id": "DkBX8G2kgpNL",
        "outputId": "92ddd8aa-02c9-4703-a37d-597caab097c2",
        "colab": {
          "base_uri": "https://localhost:8080/",
          "height": 164
        }
      },
      "source": [
        "tup[0]=50"
      ],
      "execution_count": null,
      "outputs": [
        {
          "output_type": "error",
          "ename": "TypeError",
          "evalue": "ignored",
          "traceback": [
            "\u001b[0;31m---------------------------------------------------------------------------\u001b[0m",
            "\u001b[0;31mTypeError\u001b[0m                                 Traceback (most recent call last)",
            "\u001b[0;32m<ipython-input-36-3f24f021b2b8>\u001b[0m in \u001b[0;36m<module>\u001b[0;34m()\u001b[0m\n\u001b[0;32m----> 1\u001b[0;31m \u001b[0mtup\u001b[0m\u001b[0;34m[\u001b[0m\u001b[0;36m0\u001b[0m\u001b[0;34m]\u001b[0m\u001b[0;34m=\u001b[0m\u001b[0;36m50\u001b[0m\u001b[0;34m\u001b[0m\u001b[0;34m\u001b[0m\u001b[0m\n\u001b[0m",
            "\u001b[0;31mTypeError\u001b[0m: 'tuple' object does not support item assignment"
          ]
        }
      ]
    },
    {
      "cell_type": "markdown",
      "metadata": {
        "id": "DqRh7zQdxz_d"
      },
      "source": [
        "### $\\text{Object ID}$\n"
      ]
    },
    {
      "cell_type": "markdown",
      "metadata": {
        "id": "YLXjTbzZzVGx"
      },
      "source": [
        "Try to guess what will be printed out before running the following cell."
      ]
    },
    {
      "cell_type": "code",
      "metadata": {
        "id": "-Jy97BJmzI8C",
        "outputId": "66d33d50-8728-45b7-bd97-b5fb2776d27e",
        "colab": {
          "base_uri": "https://localhost:8080/",
          "height": 34
        }
      },
      "source": [
        "lst1=[0,1,2,3,4,5,6,7]\n",
        "lst2=lst1\n",
        "lst2[0]=100\n",
        "print(lst1)"
      ],
      "execution_count": null,
      "outputs": [
        {
          "output_type": "stream",
          "text": [
            "[100, 1, 2, 3, 4, 5, 6, 7]\n"
          ],
          "name": "stdout"
        }
      ]
    },
    {
      "cell_type": "markdown",
      "metadata": {
        "id": "1QlgMQifz6co"
      },
      "source": [
        "What happens?"
      ]
    },
    {
      "cell_type": "code",
      "metadata": {
        "id": "a34iVZdjzSxB",
        "outputId": "782c19c9-3035-4005-bbb8-aeb549d00a4b",
        "colab": {
          "base_uri": "https://localhost:8080/",
          "height": 34
        }
      },
      "source": [
        "lst1=[0,1,2,3,4,5,6,7]\n",
        "lst2=lst1\n",
        "lst2.append(30)\n",
        "print(lst1)"
      ],
      "execution_count": null,
      "outputs": [
        {
          "output_type": "stream",
          "text": [
            "[0, 1, 2, 3, 4, 5, 6, 7, 30]\n"
          ],
          "name": "stdout"
        }
      ]
    },
    {
      "cell_type": "markdown",
      "metadata": {
        "id": "9dgilw_n0Qfk"
      },
      "source": [
        "Some may think 'this is totally weird'. We modified the element of <b>lst2</b> and then we printed <b>lst1</b> that is left untouched. However, the result shows that the modification made in lst2 affect lst1 too. The reason is lst1 and lst2 are <b>exactly the same</b> object."
      ]
    },
    {
      "cell_type": "code",
      "metadata": {
        "id": "1KkMYUIq0OJR",
        "outputId": "5360ee7d-3808-465d-ddc8-fd94f5078f9e",
        "colab": {
          "base_uri": "https://localhost:8080/",
          "height": 51
        }
      },
      "source": [
        "lst1=[0,1,2,3,4,5,6,7]\n",
        "lst2=lst1\n",
        "print('lst1 ID: ',id(lst1))\n",
        "print('lst2 ID: ',id(lst2))"
      ],
      "execution_count": null,
      "outputs": [
        {
          "output_type": "stream",
          "text": [
            "lst1 ID:  139891359624136\n",
            "lst2 ID:  139891359624136\n"
          ],
          "name": "stdout"
        }
      ]
    },
    {
      "cell_type": "markdown",
      "metadata": {
        "id": "HMQYTS2a2MR9"
      },
      "source": [
        "Function <a>id()</a> return the ID of object. The object with the same ID is one and the same thing. We can think of them as word in many languages.\n",
        "<br><br>\n",
        "The words of \"Moon\":\n",
        "  * Thai: พระจันทร์\n",
        "  * Spanish: luna\n",
        "  * French: lune\n",
        "  * Japanese: 月\n",
        "  * Chinese: 月亮\n",
        "  \n",
        "All the words you use refer to the same thing. We can call an object with several names, but they refer to the same thing if their id collide. In above example, 'lst1' and 'lst2' are just the names that refer to the same object.\n",
        "  "
      ]
    },
    {
      "cell_type": "markdown",
      "metadata": {
        "id": "TeEHm-El7Kan"
      },
      "source": [
        "\n",
        "Every object in python own IDs which is generated by python in the workspace after an object is created. \n"
      ]
    },
    {
      "cell_type": "code",
      "metadata": {
        "id": "g3ZiUJxb7BL0",
        "outputId": "20d4aac8-5ab8-4118-a656-c49e5be985f8",
        "colab": {
          "base_uri": "https://localhost:8080/",
          "height": 34
        }
      },
      "source": [
        "lst=[1,2,3]\n",
        "print(id(lst))"
      ],
      "execution_count": null,
      "outputs": [
        {
          "output_type": "stream",
          "text": [
            "139891358258568\n"
          ],
          "name": "stdout"
        }
      ]
    },
    {
      "cell_type": "code",
      "metadata": {
        "id": "0-mrtC-77inq",
        "outputId": "a32a167e-ef19-44f3-835f-9cded73a1553",
        "colab": {
          "base_uri": "https://localhost:8080/",
          "height": 34
        }
      },
      "source": [
        "tup=(1,2,3)\n",
        "print(id(tup))"
      ],
      "execution_count": null,
      "outputs": [
        {
          "output_type": "stream",
          "text": [
            "139891358466840\n"
          ],
          "name": "stdout"
        }
      ]
    },
    {
      "cell_type": "markdown",
      "metadata": {
        "id": "Gb7bRKVoAfui"
      },
      "source": [
        "### $\\text{More on IDs}$\n",
        "From list lesson, the following code\n",
        "\n",
        "```\n",
        "lst=lst+[3]\n",
        "```\n",
        "and\n",
        "```\n",
        "lst.append(3)\n",
        "```\n",
        "yield the same result. <br><br>\n",
        "However, the result is just the tip of iceberg in programing. The following example are shown in two cells. Try observe the object ID for lst1 and lst2.\n"
      ]
    },
    {
      "cell_type": "code",
      "metadata": {
        "id": "XBU73XB-Br_-",
        "outputId": "5a3d0264-0386-4f86-a55e-94dd8ea87c8f",
        "colab": {
          "base_uri": "https://localhost:8080/",
          "height": 204
        }
      },
      "source": [
        "lst1=[1,2,3]\n",
        "lst2=[1,2,3]\n",
        "print(\"Before\\nlst1 = \",lst1,'\\nlst2 = ',lst2) ##\\n is newline command in string\n",
        "print('lst1 assigned ID: ', id(lst1))\n",
        "print('lst2 assigned ID: ', id(lst2))\n",
        "\n",
        "lst1=lst1+[4]\n",
        "lst2.append(4)\n",
        "\n",
        "print(\"\\nAfter\\nlst1 = \",lst1,'\\nlst2 = ',lst2)\n",
        "print('lst1 modified ID: ', id(lst1))\n",
        "print('lst2 modified ID: ', id(lst2))"
      ],
      "execution_count": null,
      "outputs": [
        {
          "output_type": "stream",
          "text": [
            "Before\n",
            "lst1 =  [1, 2, 3] \n",
            "lst2 =  [1, 2, 3]\n",
            "lst1 assigned ID:  139891357988680\n",
            "lst2 assigned ID:  139891491011720\n",
            "\n",
            "After\n",
            "lst1 =  [1, 2, 3, 4] \n",
            "lst2 =  [1, 2, 3, 4]\n",
            "lst1 modified ID:  139891359536392\n",
            "lst2 modified ID:  139891491011720\n"
          ],
          "name": "stdout"
        }
      ]
    },
    {
      "cell_type": "markdown",
      "metadata": {
        "id": "_4jtJxJxDEU7"
      },
      "source": [
        "First, we see that ID of lst2 stay the same after modification while ID of lst1 changed. Calling append() method on list,"
      ]
    },
    {
      "cell_type": "code",
      "metadata": {
        "id": "y_LStloaAZY9",
        "outputId": "58b77111-fc15-427b-df00-5a0fbb1ea544",
        "colab": {
          "base_uri": "https://localhost:8080/",
          "height": 102
        }
      },
      "source": [
        "lst1=[1,2,3]\n",
        "print('Before: lst1 = ',lst1,' assigned ID: ', id(lst1))\n",
        "lst1=lst1+[4]\n",
        "print('After: lst1 = ',lst1,' modified ID: ', id(lst1))\n",
        "\n",
        "lst2=[1,2,3]\n",
        "print('\\nBefore: lst2 = ',lst2,' assigned ID: ', id(lst2))\n",
        "lst2.append(4)\n",
        "print('After: lst2 = ',lst2,' modified ID: ', id(lst2))"
      ],
      "execution_count": null,
      "outputs": [
        {
          "output_type": "stream",
          "text": [
            "Before: lst1 =  [1, 2, 3]  assigned ID:  139891358259016\n",
            "After: lst1 =  [1, 2, 3, 4]  modified ID:  139891358039624\n",
            "\n",
            "Before: lst2 =  [1, 2, 3]  assigned ID:  139891358259016\n",
            "After: lst2 =  [1, 2, 3, 4]  modified ID:  139891358259016\n"
          ],
          "name": "stdout"
        }
      ]
    },
    {
      "cell_type": "code",
      "metadata": {
        "id": "ZCEaTjraCFY9",
        "outputId": "700fd19b-d63e-4db4-8cee-68d1a549d478",
        "colab": {
          "base_uri": "https://localhost:8080/",
          "height": 51
        }
      },
      "source": [
        "lst=[1,2,3]\n",
        "print('Before: lst = ',lst,' assigned ID: ', id(lst))\n",
        "lst[0]=100\n",
        "print('After: lst = ',lst,' modified ID: ', id(lst))"
      ],
      "execution_count": null,
      "outputs": [
        {
          "output_type": "stream",
          "text": [
            "Before: lst =  [1, 2, 3]  assigned ID:  140008832170696\n",
            "After: lst =  [100, 2, 3]  modified ID:  140008832170696\n"
          ],
          "name": "stdout"
        }
      ]
    },
    {
      "cell_type": "markdown",
      "metadata": {
        "id": "ABJQFXKNOVQK"
      },
      "source": [
        "### $\\text{Immutable} \\to \\text{Tuple}$\n",
        "We cannot change data structure within tuples. "
      ]
    }
  ]
}