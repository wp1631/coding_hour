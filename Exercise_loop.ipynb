{
  "nbformat": 4,
  "nbformat_minor": 0,
  "metadata": {
    "colab": {
      "name": "Exercise_loop.ipynb",
      "provenance": [],
      "collapsed_sections": []
    },
    "kernelspec": {
      "display_name": "Python 3",
      "language": "python",
      "name": "python3"
    },
    "language_info": {
      "codemirror_mode": {
        "name": "ipython",
        "version": 3
      },
      "file_extension": ".py",
      "mimetype": "text/x-python",
      "name": "python",
      "nbconvert_exporter": "python",
      "pygments_lexer": "ipython3",
      "version": "3.6.8"
    }
  },
  "cells": [
    {
      "cell_type": "code",
      "metadata": {
        "id": "0-XGUqOwBztk"
      },
      "source": [
        "import math"
      ],
      "execution_count": null,
      "outputs": []
    },
    {
      "cell_type": "markdown",
      "metadata": {
        "id": "fxE6pDrhZ5oj"
      },
      "source": [
        "# Problem 1: Counting in the list\n",
        "\n",
        "---\n"
      ]
    },
    {
      "cell_type": "markdown",
      "metadata": {
        "id": "AyYZJpdaY2-t"
      },
      "source": [
        "**Instruction**\n",
        "\n",
        "Use loop to find the following quantities in <b><a>one run</a></b>\n",
        "\n",
        "   *   Number of interger data\n",
        "   *   Number of floating point data\n",
        "   *   Number of zero data\n",
        "   *   Number of positive data\n",
        "   *   Number of negative data\n",
        "\n",
        "**Hint**: Define one variable(or more) to count the data for each type. You can check the type of data using built-in type() function. Using loop to iterates over elements of list x is recommended. "
      ]
    },
    {
      "cell_type": "code",
      "metadata": {
        "id": "0t8ZcUngWQNj"
      },
      "source": [
        "x=[1,1,.2,3,4,1.,50.1,4.,89.,54.,1.,2.,25.,34.,71.,64.,50.,20.20,50,777,84,954,0,6120,0.0000000000001,0,354,87,5,64,85,20,3.0,12.1,0.5,89,0,123,1,2,3,4,5,6,7,8,9,10,11,12,-1,-2,-3.0,1/2,7/9,\n",
        "18.0,50.1,4.,7.5,25,64,51,32,4,2,587,95,0,64,900,1000,0,1254,6835.0,4795,1456,3124,1.0,2.5,3.4,6.8,4.2,8.8,0,888,4.1,41,64,23.5,62,1.0,-50,-8,-9.0,-50,-7,-84,-8.0,-4.0,0.00000,0.000001,-1,0,0.00,4.,5,9,78.3,0]"
      ],
      "execution_count": null,
      "outputs": []
    },
    {
      "cell_type": "code",
      "metadata": {
        "id": "JK_lkkdAaOEL"
      },
      "source": [
        "#Your code goes here\n"
      ],
      "execution_count": null,
      "outputs": []
    },
    {
      "cell_type": "markdown",
      "metadata": {
        "id": "D9VfMl11tUUy"
      },
      "source": [
        "# Problem 2: Recurrence Number\n",
        "\n",
        "---\n"
      ]
    },
    {
      "cell_type": "markdown",
      "metadata": {
        "id": "bXXSSSEPYuCm"
      },
      "source": [
        "## Sub 1: Fibonacci number\n",
        "Fibonacci number is defined by \n",
        "$$ F(n) =\n",
        "  \\begin{cases}\n",
        "    1      & \\quad  n =1,2\\\\\n",
        "    F(n)=F(n-1)+F(n-2)  & \\quad \\text{for } n >2\n",
        "  \\end{cases}\n",
        "$$\n",
        "\n",
        "Print out the first 20 Fibonacci number using for or while loop"
      ]
    },
    {
      "cell_type": "code",
      "metadata": {
        "id": "7dtcR9qRtkOH"
      },
      "source": [
        "### No more explanation"
      ],
      "execution_count": null,
      "outputs": []
    },
    {
      "cell_type": "markdown",
      "metadata": {
        "id": "FBJ23ZRZZL1Z"
      },
      "source": [
        "## Sub 2: Lucas number\n",
        "Lucas number is defined like Fibonacci number wityh different initial number\n",
        "$$ L(n) =\n",
        "  \\begin{cases}\n",
        "    2      & \\quad  n =1\\\\\n",
        "    1      & \\quad  n =2\\\\\n",
        "    L(n)=L(n-1)+L(n-2)  & \\quad \\text{for } n >2\n",
        "  \\end{cases}\n",
        "$$\n",
        "Print out the first 20 Lucas number using for or while loop\n",
        "**This should be easy for those who finishes Sub 1**"
      ]
    },
    {
      "cell_type": "code",
      "metadata": {
        "id": "7v1FjpcwaDaA"
      },
      "source": [
        "## Your code revision of Sub 1 is here"
      ],
      "execution_count": null,
      "outputs": []
    },
    {
      "cell_type": "markdown",
      "metadata": {
        "id": "LAArjlghaZMW"
      },
      "source": [
        "## Sub 3: Complicated sequences\n",
        "One sequence is defined through recurrent relation\n",
        "$$ S(n) =\n",
        "  \\begin{cases}\n",
        "    1      & \\quad  n =1\\\\\n",
        "    2      & \\quad  n =2\\\\\n",
        "    1      & \\quad  n =3\\\\\n",
        "    S(n)=S(n-1)\\times S(n-3)+\\left(S(n-1)\\right)^2  & \\quad \\text{for } n >3\n",
        "  \\end{cases}\n",
        "$$\n",
        "Write the loop code to print oot the first 10 number of this sequence"
      ]
    },
    {
      "cell_type": "code",
      "metadata": {
        "id": "LmPWCMZ3bp06"
      },
      "source": [
        "## Your code now"
      ],
      "execution_count": null,
      "outputs": []
    },
    {
      "cell_type": "markdown",
      "metadata": {
        "id": "KGgjx8la0SI9"
      },
      "source": [
        "## Extra: Example of Recurrent Function\n",
        "We can call the same function inside that function to generate recurrence.\n"
      ]
    },
    {
      "cell_type": "code",
      "metadata": {
        "id": "WNagmdjo0pi5"
      },
      "source": [
        "def Fibo(n):\n",
        "    if n<3:\n",
        "        return 1\n",
        "    else:\n",
        "        return Fibo(n-1)+Fibo(n-2)"
      ],
      "execution_count": null,
      "outputs": []
    },
    {
      "cell_type": "code",
      "metadata": {
        "id": "6zYuCEhO03BD"
      },
      "source": [
        "[Fibo(x) for x in range(1,20)] # This code give the list of the first 20 Fibonacci number"
      ],
      "execution_count": null,
      "outputs": []
    },
    {
      "cell_type": "markdown",
      "metadata": {
        "id": "bRYb9eKS_Q4j"
      },
      "source": [
        "# Problem 3: 50 prime number\n",
        "\n",
        "\n",
        "---\n"
      ]
    },
    {
      "cell_type": "markdown",
      "metadata": {
        "id": "z_F2bapQAWf2"
      },
      "source": [
        "## Sub 1: Input a number x use loop to find out if x is <b>prime</b> \n",
        "\n",
        "Use the following print command for displaying the result\n",
        "*   print('This number is prime') if x is prime\n",
        "*   print('This is not what I want') if x is not prime\n",
        "\n",
        "Note: You can access to the square root function by using math.sqrt(number) after running the<br> <a>import</a> <b>math</b> in the first cell\n"
      ]
    },
    {
      "cell_type": "code",
      "metadata": {
        "id": "boqCm-aRAPOo"
      },
      "source": [
        "### You can use this cell to assign a value of x\n",
        "x=int(input())"
      ],
      "execution_count": null,
      "outputs": []
    },
    {
      "cell_type": "code",
      "metadata": {
        "id": "0tA5AkcY_xw0"
      },
      "source": [
        "### Your code goes here ####\n",
        "# The providing code is just a hint for the problem, you can edit it as desire\n",
        "\n",
        "for i in range(_____):\n",
        "\n",
        "if __________:\n",
        "    print(x,' is prime number')\n",
        "\n",
        "else:\n",
        "    print('Not a prime number')\n"
      ],
      "execution_count": null,
      "outputs": []
    },
    {
      "cell_type": "markdown",
      "metadata": {
        "id": "OeDS2ohxCdyA"
      },
      "source": [
        "## Sub 2: Print first 20 prime\n",
        "Use loop of the loop to print first 20 prime numbers<br>\n",
        "**This problem is very hard for beginner**"
      ]
    },
    {
      "cell_type": "code",
      "metadata": {
        "id": "dhCSuESjC0qp"
      },
      "source": [
        "### Your code goes here ####\n",
        "# The providing code is just a hint for one approach to the problem, you can edit it as desire (You can build your own code as well)\n",
        "\n",
        "for i in range(_____):\n",
        "    for j in range(_________):\n",
        "\n",
        "\n",
        "\n",
        "    if __________:\n",
        "        print(_______)"
      ],
      "execution_count": null,
      "outputs": []
    },
    {
      "cell_type": "markdown",
      "metadata": {
        "id": "f7QofNzIDEMR"
      },
      "source": [
        "## Sub 3: List of the first 50 prime\n",
        "Use the append method to construct the list <a> prime </a> that contains first 50 prime numbers in it.<br>\n"
      ]
    },
    {
      "cell_type": "code",
      "metadata": {
        "id": "_Vv4kpp0DoUj"
      },
      "source": [
        "### Do it from scratch ###"
      ],
      "execution_count": null,
      "outputs": []
    },
    {
      "cell_type": "markdown",
      "metadata": {
        "id": "80ouEOi1DtAC"
      },
      "source": [
        "## Sub 4: Divisible<br>\n",
        "Given an integer input N, write a program to show that N is divisible(or not) by first 50 prime numbers"
      ]
    },
    {
      "cell_type": "code",
      "metadata": {
        "id": "AOwPwiQUEIIe"
      },
      "source": [
        "### Do it from scratch ###"
      ],
      "execution_count": null,
      "outputs": []
    },
    {
      "cell_type": "markdown",
      "metadata": {
        "id": "FJrO6lFfmpzO"
      },
      "source": [
        "# Problem 5: Money Saving \n",
        "\n",
        "\n",
        "---\n"
      ]
    },
    {
      "cell_type": "code",
      "metadata": {
        "id": "Ne5ft_vKms0G"
      },
      "source": [
        "## Run this cell to assign input value\n",
        "r =float(input('Rate of Interest for one year : '))\n",
        "year= int(input('How many year fo you want to save : '))\n",
        "start_money=float(input('How much you put in the bank for start : '))\n",
        "D=float(input('How will you deposit each month : '))"
      ],
      "execution_count": null,
      "outputs": []
    },
    {
      "cell_type": "markdown",
      "metadata": {
        "id": "M15sEBWKp488"
      },
      "source": [
        "Now, use loop to find the total amount of money after long-time saving\n"
      ]
    },
    {
      "cell_type": "code",
      "metadata": {
        "id": "SJ_ulSIUqOu2"
      },
      "source": [
        "### Your code"
      ],
      "execution_count": null,
      "outputs": []
    },
    {
      "cell_type": "markdown",
      "metadata": {
        "id": "e_MbtPTLrD3C"
      },
      "source": [
        "However, we should see the growing numbers of our account<br>\n",
        "\n",
        "<b>Instruction</b>\n",
        "\n",
        "\n",
        "*   Construct the list that contains the starting money and then the resulting amount of money at the end of each year after begin saving up to 40 years after begin, and assign it to variable X (using *loop* is recommended)\n",
        "\n"
      ]
    },
    {
      "cell_type": "code",
      "metadata": {
        "id": "cZvC-9jUqWd-"
      },
      "source": [
        "###Your code are here\n",
        "for year in range():\n",
        "  action 1\n",
        "  action 2\n",
        "     .\n",
        "     ."
      ],
      "execution_count": null,
      "outputs": []
    },
    {
      "cell_type": "markdown",
      "metadata": {
        "id": "_GI3GAq0syFa"
      },
      "source": [
        "After running above cell, run the code cell below"
      ]
    },
    {
      "cell_type": "code",
      "metadata": {
        "id": "thNAgeJHrxHn"
      },
      "source": [
        "import matplotlib.pyplot as plt\n",
        "plt.plot(range(41),X)\n",
        "plt.show()"
      ],
      "execution_count": null,
      "outputs": []
    },
    {
      "cell_type": "markdown",
      "metadata": {
        "id": "PoGMeeRQs_Pk"
      },
      "source": [
        ""
      ]
    },
    {
      "cell_type": "markdown",
      "metadata": {
        "id": "EXYA8cXVVWn9"
      },
      "source": [
        "# Problem 6: 1-Var Statistics\n",
        "\n",
        "___\n",
        "\n",
        "Given a list of number, write out the code that print out the mean, median, standard deviation of the values in the list \n",
        "\n",
        "**Using loop to iterates over all number is much better than manual iteration**\n",
        "<br>*Note: This problem is easier than 1-Var statistics problem in previous excercise*\n",
        "\n",
        "\n",
        "\n"
      ]
    },
    {
      "cell_type": "code",
      "metadata": {
        "id": "vR9MxLeuVWn-"
      },
      "source": [
        "## define the list of number here\n",
        "num_list=[5.4,8,4,5.1,4.9,5.0,2.1,1.6,16,30,45,23,35,34,25,26,62,51,32,18,35,.1,.05,1.05,80.4,90.2,70.6,1.5,5.3,21,24,27,10,32,54]"
      ],
      "execution_count": null,
      "outputs": []
    },
    {
      "cell_type": "code",
      "metadata": {
        "id": "I-WZBPcDVWn_"
      },
      "source": [
        "## Your code here"
      ],
      "execution_count": null,
      "outputs": []
    },
    {
      "cell_type": "markdown",
      "metadata": {
        "id": "NnXX0zaeVWoB"
      },
      "source": [
        "# Problem 7: Simple Linear Regression\n",
        "___\n",
        "Give list of number X and Y corresponding to the possition (x,y) for 20 points graph. <br>\n",
        " * Print the equation of linear relation between x and y using <b>least square</b> method<br>\n",
        " * Print out the  Pearson correlation coefficient (R)\n",
        "\n",
        "<br>*Note:* <br>\n",
        "1-Var Linear regression or Simple linear regression use a model\n",
        "$$y=\\alpha+\\beta x$$\n",
        "For a data point with explanatory variable $x_i$, predicted observable $y$ from the linear model is\n",
        "$$\\hat{y_i}=\\alpha+\\beta x_i$$\n",
        "The difference in the value of observation of that data point is \n",
        "$$\\hat{\\epsilon_i}=y_i-\\hat{y_i}=y_i-\\alpha-\\beta x_i$$ \n",
        "<br>We want to find the best fit parameters $\\alpha$ and $\\beta$ that minimize the square quotient, that is\n",
        "$$\\text{Find} \\min_{\\alpha,\\beta} Q(\\alpha,\\beta), \\quad \\sum_{i}{\\hat{\\epsilon_i}^2}=\\sum_i{\\left(y_i-\\alpha-\\beta x_i\\right)^2} $$\n",
        "From elementary calculus, we can find those parameter by the following constraints\n",
        "$$\\frac{\\partial Q(\\alpha,\\beta)}{\\partial\\alpha}=0$$\n",
        "$$\\frac{\\partial Q(\\alpha,\\beta)}{\\partial\\beta}=0$$\n",
        "<br>These two constraints can be simulataneously solved as follows\n",
        "$$\\hat{\\alpha}=\\frac{1}{n}S_y-\\hat{\\beta}\\frac{1}{n}S_x,\\quad\\hat{\\beta}=\\frac{nS_{xy}-S_x S_y}{nS_{xx}-S_x^2}$$\n",
        "where\n",
        "$$S_x=\\sum{x_i}, \\quad S_{xx}=\\sum{x_i^2}, \\quad S_{xy}=\\sum{x_i y_i}, \\quad S_y=\\sum{y_i},\\quad S_{yy}=\\sum{y_i^2}$$\n",
        "Lastly, we can find pearson correlation coefficient is\n",
        "$$r=\\frac{nS_{xy}-S_x S_y}{\\sqrt{\\left( nS_{xx}-S_x^2\\right)\\left(nS_{yy}-S_y^2\\right)}}$$\n"
      ]
    },
    {
      "cell_type": "code",
      "metadata": {
        "id": "Q4VU3IN2VWoB"
      },
      "source": [
        "X=[1,2,3,4,5,6,7,8,9,10,11,12,13,14,15,16,17,18,19,20]\n",
        "Y=[1.1,2.23,3.1,4.5,5.9,6.8,7.1,8.0,11.5,13.5,14.4,13.2,15.5,16.7,18.9,20,25,23.8,30,25.8]"
      ],
      "execution_count": null,
      "outputs": []
    },
    {
      "cell_type": "code",
      "metadata": {
        "id": "3qH6hyJVVWoD"
      },
      "source": [
        "## Your code here"
      ],
      "execution_count": null,
      "outputs": []
    },
    {
      "cell_type": "markdown",
      "metadata": {
        "id": "MK03Iara7UpP"
      },
      "source": [
        "# Problem 8: Iterative root finding\n",
        "___\n",
        "## Sub 1: $\\sqrt{3}$ revisit\n",
        "From our lesson, $\\sqrt{3}$ is one of the solution for the equation $x^2-3=0$. However, we cannot use recurrent iteration to find its value.\n",
        "<br>This time, we will introduce a little change to our equation\n",
        "$$\\alpha x^3+x^2-3=0 $$\n",
        "we write $$x=\\left(\\frac{3-x^2}{\\alpha}\\right)^{\\frac{1}{3}}$$\n",
        "If $\\alpha$ is small enough, the iteration\n",
        "$$x_i=\\left(\\frac{3-x_{i-1}^2}{\\alpha}\\right)^{\\frac{1}{3}}$$\n",
        "can approximate the value of $\\sqrt{3}$\n",
        "\n",
        "<br><br><br>\n",
        "**Write a program to approximate $\\sqrt{3}$ with $\\alpha=0.001$**\n",
        "*You can use the code block from the lesson, it will show the value for each iteration before reaching $\\sqrt{3}$*\n"
      ]
    },
    {
      "cell_type": "code",
      "metadata": {
        "id": "iZ5n0ivy8D0O"
      },
      "source": [
        "## Here you are"
      ],
      "execution_count": null,
      "outputs": []
    },
    {
      "cell_type": "markdown",
      "metadata": {
        "id": "yDjQJlEEtcrG"
      },
      "source": [
        "## Sub 2: Babylonian Method\n",
        "Another way to find square root of positive number $S$  is babylonian method which is defined through recurrent relation\n",
        "$$x_i=\\frac{1}{2}\\left(x_{i-1}+\\frac{S}{x_{i-1}}\\right)$$\n",
        "<br>\n",
        "**Find $\\sqrt{3}$ using above recurrence**"
      ]
    },
    {
      "cell_type": "markdown",
      "metadata": {
        "id": "BH4Fb12a8IfJ"
      },
      "source": [
        "# Problem 9: Oh my 5-star Character\n",
        "___\n",
        "In October 2020, the game *Genshin Impact* from MihoYo Corp. is release. <br>\n",
        "<br>There exists the so-called **'Gachapon'** system where you can use a special currency obtained via Top-up or In-game events, to draw a capsule containing in-game items.\n",
        "<br>\n",
        "<br>\n",
        "The most wanted item in this game are 5-star character which player has totally 1% chance for each draw. \n",
        "\n",
        "## Sub 1: (Non-programing question) 80% chance\n",
        "Think carefully, how much draws you *need* in order to have 80% for obtaining **at least** one 5-stars character.\n",
        "\n",
        "## Sub 2: Chance\n",
        "The order in which the items appear is not related to the probability. The number of possible order that allow $n$ 5-stars characters out of N draw is $\\frac{N!}{n!(N-n)!}$ with the probability for $(0.01)^n (0.99)^{(N-n)}$\n",
        "<br>\n",
        "<br>\n",
        "**Write the program that take the total number of gacha draw, then output the total probability to obtain at least one 5-stars character** "
      ]
    }
  ]
}