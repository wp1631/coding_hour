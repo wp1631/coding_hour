{
  "nbformat": 4,
  "nbformat_minor": 0,
  "metadata": {
    "colab": {
      "name": "Coding_Hour2.ipynb",
      "provenance": [],
      "private_outputs": true,
      "collapsed_sections": [
        "U6R7D69CPQzo"
      ]
    },
    "kernelspec": {
      "name": "python3",
      "display_name": "Python 3"
    }
  },
  "cells": [
    {
      "cell_type": "markdown",
      "metadata": {
        "id": "-GesvmV0L6jX"
      },
      "source": [
        "# Python List\n",
        "\n",
        "---\n",
        "\n"
      ]
    },
    {
      "cell_type": "code",
      "metadata": {
        "id": "E6DddC80MAF1"
      },
      "source": [
        "x=[1,True,'s',[1,2,3,4,5],6.7]"
      ],
      "execution_count": null,
      "outputs": []
    },
    {
      "cell_type": "code",
      "metadata": {
        "id": "PkcxUE4UMDXe"
      },
      "source": [
        "type(x)"
      ],
      "execution_count": null,
      "outputs": []
    },
    {
      "cell_type": "code",
      "metadata": {
        "id": "Bs8OoWGwSX3c"
      },
      "source": [
        "dir(x)"
      ],
      "execution_count": null,
      "outputs": []
    },
    {
      "cell_type": "markdown",
      "metadata": {
        "id": "A7E230I5MfrB"
      },
      "source": [
        "In python, we can store many type of data in one variable using <a>list</a>.<br>\n",
        "Each element can be accesed using index(starting from 0) subscription. For example"
      ]
    },
    {
      "cell_type": "code",
      "metadata": {
        "id": "-zBz6fhuMWkO"
      },
      "source": [
        "x[0]"
      ],
      "execution_count": null,
      "outputs": []
    },
    {
      "cell_type": "code",
      "metadata": {
        "id": "Asof33gcNAh9"
      },
      "source": [
        "x[1]"
      ],
      "execution_count": null,
      "outputs": []
    },
    {
      "cell_type": "code",
      "metadata": {
        "id": "stHTQvwUNEuU"
      },
      "source": [
        "x[6]"
      ],
      "execution_count": null,
      "outputs": []
    },
    {
      "cell_type": "markdown",
      "metadata": {
        "id": "Qz5pkyTNNMye"
      },
      "source": [
        "Since x[3] is list too, its element can be accessed by addtional subscript index. "
      ]
    },
    {
      "cell_type": "code",
      "metadata": {
        "id": "zRTEgDg5NcvI"
      },
      "source": [
        "x[3][2]"
      ],
      "execution_count": null,
      "outputs": []
    },
    {
      "cell_type": "markdown",
      "metadata": {
        "id": "IkKNVEZgNofO"
      },
      "source": [
        "The length of data stored in a list can be found by function len()"
      ]
    },
    {
      "cell_type": "code",
      "metadata": {
        "id": "RcYeSaDMNv8z"
      },
      "source": [
        "len(x)"
      ],
      "execution_count": null,
      "outputs": []
    },
    {
      "cell_type": "code",
      "metadata": {
        "id": "qmVf77waNze8"
      },
      "source": [
        "x=[1,2,3]\n",
        "len(x)"
      ],
      "execution_count": null,
      "outputs": []
    },
    {
      "cell_type": "markdown",
      "metadata": {
        "id": "oEPcZMTMN9sV"
      },
      "source": [
        "We can also check if there is a element we want in a list using a keyword in"
      ]
    },
    {
      "cell_type": "code",
      "metadata": {
        "id": "JO5ug5KhOLu_"
      },
      "source": [
        "2 in x"
      ],
      "execution_count": null,
      "outputs": []
    },
    {
      "cell_type": "code",
      "metadata": {
        "id": "xLjlM_5LON93"
      },
      "source": [
        "20 in x"
      ],
      "execution_count": null,
      "outputs": []
    },
    {
      "cell_type": "markdown",
      "metadata": {
        "id": "oo2eXwsgcz5j"
      },
      "source": [
        "We can modify the element in our list if we know its index"
      ]
    },
    {
      "cell_type": "code",
      "metadata": {
        "id": "J0bEX2Kcc9FR"
      },
      "source": [
        "x=[1,2,3,4,5]\n",
        "print(x)\n",
        "x[3]=2\n",
        "print(x)"
      ],
      "execution_count": null,
      "outputs": []
    },
    {
      "cell_type": "markdown",
      "metadata": {
        "id": "rMR_tlbJUprF"
      },
      "source": [
        "## List: Append, Addition and Extension<br>\n"
      ]
    },
    {
      "cell_type": "code",
      "metadata": {
        "id": "RXoki_x2VB4K"
      },
      "source": [
        "x=[1,2,3,4,5,6,7,8]\n",
        "print(x)"
      ],
      "execution_count": null,
      "outputs": []
    },
    {
      "cell_type": "code",
      "metadata": {
        "id": "NbZvO0DSVI-T"
      },
      "source": [
        "x.append([1,2,3])\n",
        "print(x)"
      ],
      "execution_count": null,
      "outputs": []
    },
    {
      "cell_type": "code",
      "metadata": {
        "id": "k8pmvfisVN4G"
      },
      "source": [
        "print(x+[10])"
      ],
      "execution_count": null,
      "outputs": []
    },
    {
      "cell_type": "code",
      "metadata": {
        "id": "0COPdJWtVSR1"
      },
      "source": [
        "print(x)"
      ],
      "execution_count": null,
      "outputs": []
    },
    {
      "cell_type": "code",
      "metadata": {
        "id": "-lH3lnSUZuFk"
      },
      "source": [
        "x=x+[10]\n",
        "print(x)"
      ],
      "execution_count": null,
      "outputs": []
    },
    {
      "cell_type": "code",
      "metadata": {
        "id": "k9cpowgxVnh3"
      },
      "source": [
        "x=[1,2,3,4]\n",
        "y=[5,6,7,8]\n",
        "print(x+y)"
      ],
      "execution_count": null,
      "outputs": []
    },
    {
      "cell_type": "code",
      "metadata": {
        "id": "utjqxmsLVt86"
      },
      "source": [
        "x.append(y)\n",
        "print(x)"
      ],
      "execution_count": null,
      "outputs": []
    },
    {
      "cell_type": "code",
      "metadata": {
        "id": "qwQNIINUbFsb"
      },
      "source": [
        "x"
      ],
      "execution_count": null,
      "outputs": []
    },
    {
      "cell_type": "code",
      "metadata": {
        "id": "5eoE0zftbP89"
      },
      "source": [
        "print(x.append(1))"
      ],
      "execution_count": null,
      "outputs": []
    },
    {
      "cell_type": "code",
      "metadata": {
        "id": "vCLhC8ebbcEc"
      },
      "source": [
        "x"
      ],
      "execution_count": null,
      "outputs": []
    },
    {
      "cell_type": "markdown",
      "metadata": {
        "id": "cSOfjRQPck1O"
      },
      "source": [
        "## Insert and remove an element\n",
        "\n",
        "---\n",
        "\n",
        "We can add/remove element to the middle of existing list using <a>insert</a> or <a>del</a>"
      ]
    },
    {
      "cell_type": "code",
      "metadata": {
        "id": "5q9dUbugdx9N"
      },
      "source": [
        "x=[1,2,3,4,5,6]\n",
        "print(x)\n",
        "x.insert(1,100)\n",
        "print(x)"
      ],
      "execution_count": null,
      "outputs": []
    },
    {
      "cell_type": "code",
      "metadata": {
        "id": "S3m3ul4He6Di"
      },
      "source": [
        "x.insert(5,50)\n",
        "print(x)"
      ],
      "execution_count": null,
      "outputs": []
    },
    {
      "cell_type": "code",
      "metadata": {
        "id": "xrBFeaGQcaB1"
      },
      "source": [
        "?list.insert"
      ],
      "execution_count": null,
      "outputs": []
    },
    {
      "cell_type": "code",
      "metadata": {
        "id": "3AaLngTdc4c2"
      },
      "source": [
        "x"
      ],
      "execution_count": null,
      "outputs": []
    },
    {
      "cell_type": "code",
      "metadata": {
        "id": "hruW2CFEcvm_"
      },
      "source": [
        "x.insert(20,1)"
      ],
      "execution_count": null,
      "outputs": []
    },
    {
      "cell_type": "code",
      "metadata": {
        "id": "qPT0a4dLc1hK"
      },
      "source": [
        "len(x)"
      ],
      "execution_count": null,
      "outputs": []
    },
    {
      "cell_type": "code",
      "metadata": {
        "id": "q9Ki73E_HeC9"
      },
      "source": [
        "x=[1,1,1,2,3,4,5,1,2,3,1,1,2]\n",
        "print(x)"
      ],
      "execution_count": null,
      "outputs": []
    },
    {
      "cell_type": "code",
      "metadata": {
        "id": "bMbtTYWjdR27"
      },
      "source": [
        "x.remove(100)\n",
        "print(x)"
      ],
      "execution_count": null,
      "outputs": []
    },
    {
      "cell_type": "code",
      "metadata": {
        "id": "dS4Kn04qdryB"
      },
      "source": [
        "print(x)\n",
        "del x[2]\n",
        "print(x)"
      ],
      "execution_count": null,
      "outputs": []
    },
    {
      "cell_type": "code",
      "metadata": {
        "id": "0gyR6wuNeFE4"
      },
      "source": [
        "del x\n",
        "print(x)"
      ],
      "execution_count": null,
      "outputs": []
    },
    {
      "cell_type": "markdown",
      "metadata": {
        "id": "KaXOHYvjbhk7"
      },
      "source": [
        "## List slicing\n",
        "\n",
        "---\n",
        "We can subset the list using subsription []\n"
      ]
    },
    {
      "cell_type": "code",
      "metadata": {
        "id": "XgjGPFG9bzVu"
      },
      "source": [
        "x=[1,2,3,4,5,6,7,8,9,10]\n",
        "print('x[:] = ',x[:])\n",
        "print('x[0:] = ',x[0:])\n",
        "print('x[1:5] = ',x[1:5])"
      ],
      "execution_count": null,
      "outputs": []
    },
    {
      "cell_type": "code",
      "metadata": {
        "id": "YfQ3QIFCbqjI"
      },
      "source": [
        "x[::2]"
      ],
      "execution_count": null,
      "outputs": []
    },
    {
      "cell_type": "code",
      "metadata": {
        "id": "0rcpDX-LgdNK"
      },
      "source": [
        "x[:6:3]"
      ],
      "execution_count": null,
      "outputs": []
    },
    {
      "cell_type": "code",
      "metadata": {
        "id": "amHY_9l4gis9"
      },
      "source": [
        "x[1:3:2]"
      ],
      "execution_count": null,
      "outputs": []
    },
    {
      "cell_type": "code",
      "metadata": {
        "id": "8bLWO1KOfN--"
      },
      "source": [
        "x[-1]"
      ],
      "execution_count": null,
      "outputs": []
    },
    {
      "cell_type": "code",
      "metadata": {
        "id": "CqH3dvBlfQ7z"
      },
      "source": [
        "x[-1::-1]"
      ],
      "execution_count": null,
      "outputs": []
    },
    {
      "cell_type": "markdown",
      "metadata": {
        "id": "U1nrdLK9aUvd"
      },
      "source": [
        "We cannot use <a>append</a> method to join list together"
      ]
    },
    {
      "cell_type": "code",
      "metadata": {
        "id": "L3zO7kjPbJ3X"
      },
      "source": [
        "x=[1,2,3,4,5,6,7]\n",
        "y=[8,9,10]\n",
        "x.append(y)\n",
        "x"
      ],
      "execution_count": null,
      "outputs": []
    },
    {
      "cell_type": "code",
      "metadata": {
        "id": "zax3QwvGaIfe"
      },
      "source": [
        "x=[1,2,3,4,5,6,7]\n",
        "y=[[1,2,3,4],2,3,4]\n",
        "y[0].extend(x)\n",
        "y"
      ],
      "execution_count": null,
      "outputs": []
    },
    {
      "cell_type": "code",
      "metadata": {
        "id": "vO0vV8FxhBZ1"
      },
      "source": [
        "x+2"
      ],
      "execution_count": null,
      "outputs": []
    },
    {
      "cell_type": "markdown",
      "metadata": {
        "id": "vBAP4Jf3CpMI"
      },
      "source": [
        "## List sort\n",
        "\n",
        "---\n",
        "\n"
      ]
    },
    {
      "cell_type": "code",
      "metadata": {
        "id": "EMHE_JdRCwiU"
      },
      "source": [
        "x=[1,5,7,2,3,4,8,9,4,1,20,4,15,222]\n",
        "x.sort()\n",
        "print(x)"
      ],
      "execution_count": null,
      "outputs": []
    },
    {
      "cell_type": "code",
      "metadata": {
        "id": "s9AWLttVGczz"
      },
      "source": [
        "x=[1,5,7,2,3,4,8,9,4,1,20,4,15,222,[500,'y']]\n",
        "x.sort(reverse=True)\n",
        "print(x)"
      ],
      "execution_count": null,
      "outputs": []
    },
    {
      "cell_type": "code",
      "metadata": {
        "id": "I7tr0vGDhslv"
      },
      "source": [
        "x=['1','ab','bb','aa','ba']\n",
        "x.sort()\n",
        "x"
      ],
      "execution_count": null,
      "outputs": []
    },
    {
      "cell_type": "code",
      "metadata": {
        "id": "tFEhlSRqGwii"
      },
      "source": [
        "x=[1,1,2,2,[1,2],4,1,2,4,6,7,1,2,3,4,1,2,6,7,8,2,3,4,1,2,6,1,2,3,8,3,1,8,3,8]\n",
        "print(x.count(1))"
      ],
      "execution_count": null,
      "outputs": []
    },
    {
      "cell_type": "code",
      "metadata": {
        "id": "EFbJ-Sgziamm"
      },
      "source": [
        "x.count(1)"
      ],
      "execution_count": null,
      "outputs": []
    },
    {
      "cell_type": "markdown",
      "metadata": {
        "id": "U6R7D69CPQzo"
      },
      "source": [
        "# range()\n",
        "\n",
        "<b>range(start,end, step)</b> is a function that returns a sequence of integer in the interval [<b>start,end</b>) with the separation of <b>step</b>"
      ]
    },
    {
      "cell_type": "code",
      "metadata": {
        "id": "8AlL9kGEPzQn"
      },
      "source": [
        "print(range(0,10,2))"
      ],
      "execution_count": null,
      "outputs": []
    },
    {
      "cell_type": "code",
      "metadata": {
        "id": "8YUjBG4VQfqy"
      },
      "source": [
        "for i in range(0,10,2):\n",
        "    print(i)"
      ],
      "execution_count": null,
      "outputs": []
    },
    {
      "cell_type": "code",
      "metadata": {
        "id": "T9gwP8JWPuKY"
      },
      "source": [
        "type(range(10))"
      ],
      "execution_count": null,
      "outputs": []
    },
    {
      "cell_type": "code",
      "metadata": {
        "id": "AR0d1qk2P0Hd"
      },
      "source": [
        "x=range(1,100,3)\n",
        "dir(x)"
      ],
      "execution_count": null,
      "outputs": []
    },
    {
      "cell_type": "code",
      "metadata": {
        "id": "ud18jpxEP59k"
      },
      "source": [
        "print(x.__getitem__(2))"
      ],
      "execution_count": null,
      "outputs": []
    }
  ]
}